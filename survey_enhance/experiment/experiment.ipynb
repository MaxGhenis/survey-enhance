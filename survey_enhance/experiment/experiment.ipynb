{
 "cells": [
  {
   "cell_type": "code",
   "execution_count": 1,
   "metadata": {},
   "outputs": [],
   "source": [
    "from survey_enhance.experiment.initialisation import (\n",
    "    dataset, \n",
    "    calibration_parameters,\n",
    "    Loss,\n",
    "    create_frs_dataset,\n",
    "    household_weights,\n",
    ")"
   ]
  },
  {
   "cell_type": "markdown",
   "metadata": {},
   "source": [
    "## Experiment 1: Evaluate percentile matching method"
   ]
  },
  {
   "cell_type": "code",
   "execution_count": 2,
   "metadata": {},
   "outputs": [],
   "source": [
    "initial_loss = Loss(dataset, calibration_parameters)\n",
    "\n",
    "from survey_enhance.percentile_matching import match_percentiles_df, match_percentiles\n",
    "\n",
    "VARIABLES_TO_ADJUST = [\n",
    "    \"employment_income\",\n",
    "    \"self_employment_income\",\n",
    "    \"pension_income\",\n",
    "    \"savings_interest_income\",\n",
    "    \"dividend_income\",\n",
    "]\n",
    "\n",
    "from policyengine_uk import Microsimulation, SPI\n",
    "\n",
    "spi_simulation = Microsimulation(dataset=SPI, dataset_year=2019)\n",
    "\n",
    "spi_df = spi_simulation.calculate_dataframe(VARIABLES_TO_ADJUST, period=2019)\n",
    "frs_df = dataset.person_df[VARIABLES_TO_ADJUST]\n",
    "percentile_adjusted_frs_person_df = frs_df.copy()\n",
    "for variable in VARIABLES_TO_ADJUST:\n",
    "    percentile_adjusted_frs_person_df[variable] = match_percentiles(\n",
    "        frs_df[variable], spi_df[variable],\n",
    "        percentile_threshold=0.97,\n",
    "        num_groups=12,\n",
    "    )\n",
    "\n",
    "percentile_adjusted_dataset = create_frs_dataset(percentile_adjusted_frs_person_df)"
   ]
  },
  {
   "cell_type": "code",
   "execution_count": 3,
   "metadata": {},
   "outputs": [
    {
     "data": {
      "text/plain": [
       "employment_income          892.257181\n",
       "self_employment_income     114.199002\n",
       "pension_income             112.636594\n",
       "savings_interest_income      6.824097\n",
       "dividend_income              9.667614\n",
       "dtype: float64"
      ]
     },
     "execution_count": 3,
     "metadata": {},
     "output_type": "execute_result"
    }
   ],
   "source": [
    "frs_df.sum()/1e9"
   ]
  },
  {
   "cell_type": "code",
   "execution_count": 4,
   "metadata": {},
   "outputs": [
    {
     "data": {
      "text/plain": [
       "employment_income          932.617010\n",
       "self_employment_income     130.953874\n",
       "pension_income             115.528538\n",
       "savings_interest_income     14.877669\n",
       "dividend_income             54.361771\n",
       "dtype: float64"
      ]
     },
     "execution_count": 4,
     "metadata": {},
     "output_type": "execute_result"
    }
   ],
   "source": [
    "percentile_adjusted_frs_person_df.sum()/1e9"
   ]
  },
  {
   "cell_type": "code",
   "execution_count": 5,
   "metadata": {},
   "outputs": [
    {
     "ename": "TypeError",
     "evalue": "unsupported operand type(s) for +: 'int' and 'NoneType'",
     "output_type": "error",
     "traceback": [
      "\u001b[0;31m---------------------------------------------------------------------------\u001b[0m",
      "\u001b[0;31mTypeError\u001b[0m                                 Traceback (most recent call last)",
      "\u001b[1;32m/Users/nikhil/durham/survey-enhance/survey_enhance/experiment/experiment.ipynb Cell 6\u001b[0m in \u001b[0;36m<cell line: 3>\u001b[0;34m()\u001b[0m\n\u001b[1;32m      <a href='vscode-notebook-cell:/Users/nikhil/durham/survey-enhance/survey_enhance/experiment/experiment.ipynb#W5sZmlsZQ%3D%3D?line=0'>1</a>\u001b[0m loss \u001b[39m=\u001b[39m Loss(dataset, calibration_parameters)\n\u001b[0;32m----> <a href='vscode-notebook-cell:/Users/nikhil/durham/survey-enhance/survey_enhance/experiment/experiment.ipynb#W5sZmlsZQ%3D%3D?line=2'>3</a>\u001b[0m frs_loss \u001b[39m=\u001b[39m loss(household_weights, dataset)\n\u001b[1;32m      <a href='vscode-notebook-cell:/Users/nikhil/durham/survey-enhance/survey_enhance/experiment/experiment.ipynb#W5sZmlsZQ%3D%3D?line=3'>4</a>\u001b[0m percentile_adjusted_loss \u001b[39m=\u001b[39m loss(household_weights, percentile_adjusted_dataset)\n\u001b[1;32m      <a href='vscode-notebook-cell:/Users/nikhil/durham/survey-enhance/survey_enhance/experiment/experiment.ipynb#W5sZmlsZQ%3D%3D?line=5'>6</a>\u001b[0m \u001b[39mprint\u001b[39m(\u001b[39mf\u001b[39m\u001b[39m\"\u001b[39m\u001b[39mFRS loss: \u001b[39m\u001b[39m{\u001b[39;00mfrs_loss\u001b[39m}\u001b[39;00m\u001b[39m\"\u001b[39m)\n",
      "File \u001b[0;32m/opt/anaconda3/lib/python3.9/site-packages/torch/nn/modules/module.py:1130\u001b[0m, in \u001b[0;36mModule._call_impl\u001b[0;34m(self, *input, **kwargs)\u001b[0m\n\u001b[1;32m   1126\u001b[0m \u001b[39m# If we don't have any hooks, we want to skip the rest of the logic in\u001b[39;00m\n\u001b[1;32m   1127\u001b[0m \u001b[39m# this function, and just call forward.\u001b[39;00m\n\u001b[1;32m   1128\u001b[0m \u001b[39mif\u001b[39;00m \u001b[39mnot\u001b[39;00m (\u001b[39mself\u001b[39m\u001b[39m.\u001b[39m_backward_hooks \u001b[39mor\u001b[39;00m \u001b[39mself\u001b[39m\u001b[39m.\u001b[39m_forward_hooks \u001b[39mor\u001b[39;00m \u001b[39mself\u001b[39m\u001b[39m.\u001b[39m_forward_pre_hooks \u001b[39mor\u001b[39;00m _global_backward_hooks\n\u001b[1;32m   1129\u001b[0m         \u001b[39mor\u001b[39;00m _global_forward_hooks \u001b[39mor\u001b[39;00m _global_forward_pre_hooks):\n\u001b[0;32m-> 1130\u001b[0m     \u001b[39mreturn\u001b[39;00m forward_call(\u001b[39m*\u001b[39;49m\u001b[39minput\u001b[39;49m, \u001b[39m*\u001b[39;49m\u001b[39m*\u001b[39;49mkwargs)\n\u001b[1;32m   1131\u001b[0m \u001b[39m# Do not call functions when jit is used\u001b[39;00m\n\u001b[1;32m   1132\u001b[0m full_backward_hooks, non_full_backward_hooks \u001b[39m=\u001b[39m [], []\n",
      "File \u001b[0;32m~/durham/survey-enhance/survey_enhance/loss.py:62\u001b[0m, in \u001b[0;36mLossCategory.forward\u001b[0;34m(self, household_weights, dataset, initial_run)\u001b[0m\n\u001b[1;32m     60\u001b[0m \u001b[39mdef\u001b[39;00m \u001b[39mforward\u001b[39m(\u001b[39mself\u001b[39m, household_weights: torch\u001b[39m.\u001b[39mTensor, dataset: Dataset, initial_run: \u001b[39mbool\u001b[39m \u001b[39m=\u001b[39m \u001b[39mFalse\u001b[39;00m) \u001b[39m-\u001b[39m\u001b[39m>\u001b[39m torch\u001b[39m.\u001b[39mTensor:\n\u001b[1;32m     61\u001b[0m     \u001b[39mif\u001b[39;00m \u001b[39mself\u001b[39m\u001b[39m.\u001b[39minitial_loss_value \u001b[39mis\u001b[39;00m \u001b[39mNone\u001b[39;00m \u001b[39mand\u001b[39;00m \u001b[39mnot\u001b[39;00m initial_run:\n\u001b[0;32m---> 62\u001b[0m         \u001b[39mself\u001b[39m\u001b[39m.\u001b[39minitial_loss_value \u001b[39m=\u001b[39m \u001b[39mself\u001b[39;49m\u001b[39m.\u001b[39;49mforward(household_weights, dataset, initial_run\u001b[39m=\u001b[39;49m\u001b[39mTrue\u001b[39;49;00m)\n\u001b[1;32m     64\u001b[0m     loss \u001b[39m=\u001b[39m torch\u001b[39m.\u001b[39mtensor(\u001b[39m1.\u001b[39m) \u001b[39m# To avoid division by zero\u001b[39;00m\n\u001b[1;32m     66\u001b[0m     \u001b[39mtry\u001b[39;00m:\n",
      "File \u001b[0;32m~/durham/survey-enhance/survey_enhance/loss.py:74\u001b[0m, in \u001b[0;36mLossCategory.forward\u001b[0;34m(self, household_weights, dataset, initial_run)\u001b[0m\n\u001b[1;32m     72\u001b[0m total_subloss_weight \u001b[39m=\u001b[39m \u001b[39msum\u001b[39m(subloss\u001b[39m.\u001b[39mweight \u001b[39mfor\u001b[39;00m subloss \u001b[39min\u001b[39;00m \u001b[39mself\u001b[39m\u001b[39m.\u001b[39msublosses)\n\u001b[1;32m     73\u001b[0m \u001b[39mfor\u001b[39;00m subloss \u001b[39min\u001b[39;00m \u001b[39mself\u001b[39m\u001b[39m.\u001b[39msublosses:\n\u001b[0;32m---> 74\u001b[0m     subcategory_loss \u001b[39m=\u001b[39m subloss(household_weights, dataset) \u001b[39m/\u001b[39m total_subloss_weight\n\u001b[1;32m     75\u001b[0m     \u001b[39mself\u001b[39m\u001b[39m.\u001b[39mcomparison_log\u001b[39m.\u001b[39mappend(\n\u001b[1;32m     76\u001b[0m         (\u001b[39mself\u001b[39m\u001b[39m.\u001b[39mepoch, subloss\u001b[39m.\u001b[39m\u001b[39m__class__\u001b[39m\u001b[39m.\u001b[39m\u001b[39m__name__\u001b[39m, \u001b[39m0\u001b[39m, \u001b[39m0\u001b[39m, \u001b[39mfloat\u001b[39m(subcategory_loss))\n\u001b[1;32m     77\u001b[0m     )\n\u001b[1;32m     78\u001b[0m     loss \u001b[39m+\u001b[39m\u001b[39m=\u001b[39m subcategory_loss\n",
      "File \u001b[0;32m/opt/anaconda3/lib/python3.9/site-packages/torch/nn/modules/module.py:1130\u001b[0m, in \u001b[0;36mModule._call_impl\u001b[0;34m(self, *input, **kwargs)\u001b[0m\n\u001b[1;32m   1126\u001b[0m \u001b[39m# If we don't have any hooks, we want to skip the rest of the logic in\u001b[39;00m\n\u001b[1;32m   1127\u001b[0m \u001b[39m# this function, and just call forward.\u001b[39;00m\n\u001b[1;32m   1128\u001b[0m \u001b[39mif\u001b[39;00m \u001b[39mnot\u001b[39;00m (\u001b[39mself\u001b[39m\u001b[39m.\u001b[39m_backward_hooks \u001b[39mor\u001b[39;00m \u001b[39mself\u001b[39m\u001b[39m.\u001b[39m_forward_hooks \u001b[39mor\u001b[39;00m \u001b[39mself\u001b[39m\u001b[39m.\u001b[39m_forward_pre_hooks \u001b[39mor\u001b[39;00m _global_backward_hooks\n\u001b[1;32m   1129\u001b[0m         \u001b[39mor\u001b[39;00m _global_forward_hooks \u001b[39mor\u001b[39;00m _global_forward_pre_hooks):\n\u001b[0;32m-> 1130\u001b[0m     \u001b[39mreturn\u001b[39;00m forward_call(\u001b[39m*\u001b[39;49m\u001b[39minput\u001b[39;49m, \u001b[39m*\u001b[39;49m\u001b[39m*\u001b[39;49mkwargs)\n\u001b[1;32m   1131\u001b[0m \u001b[39m# Do not call functions when jit is used\u001b[39;00m\n\u001b[1;32m   1132\u001b[0m full_backward_hooks, non_full_backward_hooks \u001b[39m=\u001b[39m [], []\n",
      "File \u001b[0;32m~/durham/survey-enhance/survey_enhance/loss.py:62\u001b[0m, in \u001b[0;36mLossCategory.forward\u001b[0;34m(self, household_weights, dataset, initial_run)\u001b[0m\n\u001b[1;32m     60\u001b[0m \u001b[39mdef\u001b[39;00m \u001b[39mforward\u001b[39m(\u001b[39mself\u001b[39m, household_weights: torch\u001b[39m.\u001b[39mTensor, dataset: Dataset, initial_run: \u001b[39mbool\u001b[39m \u001b[39m=\u001b[39m \u001b[39mFalse\u001b[39;00m) \u001b[39m-\u001b[39m\u001b[39m>\u001b[39m torch\u001b[39m.\u001b[39mTensor:\n\u001b[1;32m     61\u001b[0m     \u001b[39mif\u001b[39;00m \u001b[39mself\u001b[39m\u001b[39m.\u001b[39minitial_loss_value \u001b[39mis\u001b[39;00m \u001b[39mNone\u001b[39;00m \u001b[39mand\u001b[39;00m \u001b[39mnot\u001b[39;00m initial_run:\n\u001b[0;32m---> 62\u001b[0m         \u001b[39mself\u001b[39m\u001b[39m.\u001b[39minitial_loss_value \u001b[39m=\u001b[39m \u001b[39mself\u001b[39;49m\u001b[39m.\u001b[39;49mforward(household_weights, dataset, initial_run\u001b[39m=\u001b[39;49m\u001b[39mTrue\u001b[39;49;00m)\n\u001b[1;32m     64\u001b[0m     loss \u001b[39m=\u001b[39m torch\u001b[39m.\u001b[39mtensor(\u001b[39m1.\u001b[39m) \u001b[39m# To avoid division by zero\u001b[39;00m\n\u001b[1;32m     66\u001b[0m     \u001b[39mtry\u001b[39;00m:\n",
      "File \u001b[0;32m~/durham/survey-enhance/survey_enhance/loss.py:72\u001b[0m, in \u001b[0;36mLossCategory.forward\u001b[0;34m(self, household_weights, dataset, initial_run)\u001b[0m\n\u001b[1;32m     69\u001b[0m \u001b[39mexcept\u001b[39;00m \u001b[39mNotImplementedError\u001b[39;00m:\n\u001b[1;32m     70\u001b[0m     \u001b[39mpass\u001b[39;00m\n\u001b[0;32m---> 72\u001b[0m total_subloss_weight \u001b[39m=\u001b[39m \u001b[39msum\u001b[39;49m(subloss\u001b[39m.\u001b[39;49mweight \u001b[39mfor\u001b[39;49;00m subloss \u001b[39min\u001b[39;49;00m \u001b[39mself\u001b[39;49m\u001b[39m.\u001b[39;49msublosses)\n\u001b[1;32m     73\u001b[0m \u001b[39mfor\u001b[39;00m subloss \u001b[39min\u001b[39;00m \u001b[39mself\u001b[39m\u001b[39m.\u001b[39msublosses:\n\u001b[1;32m     74\u001b[0m     subcategory_loss \u001b[39m=\u001b[39m subloss(household_weights, dataset) \u001b[39m/\u001b[39m total_subloss_weight\n",
      "\u001b[0;31mTypeError\u001b[0m: unsupported operand type(s) for +: 'int' and 'NoneType'"
     ]
    }
   ],
   "source": [
    "loss = Loss(dataset, calibration_parameters)\n",
    "\n",
    "frs_loss = loss(household_weights, dataset)\n",
    "percentile_adjusted_loss = loss(household_weights, percentile_adjusted_dataset)\n",
    "\n",
    "print(f\"FRS loss: {frs_loss}\")\n",
    "print(f\"Percentile adjusted loss: {percentile_adjusted_loss}\")"
   ]
  },
  {
   "cell_type": "code",
   "execution_count": null,
   "metadata": {},
   "outputs": [],
   "source": [
    "df = loss.collect_comparison_log().reset_index()"
   ]
  },
  {
   "cell_type": "code",
   "execution_count": null,
   "metadata": {},
   "outputs": [],
   "source": [
    "# There are groups of five rows in the dataframe. Combine them by subtracing the row with epoch=4 from the row with epoch=3.as_integer_ratio\n",
    "\n",
    "df_4 = df[df.epoch == 4]\n",
    "df_3 = df[df.epoch == 3]\n",
    "df_4 = df_4.set_index(\"name\")\n",
    "df_3 = df_3.set_index(\"name\")\n",
    "df_4 = df_4.subtract(df_3)\n",
    "\n",
    "df_4 = df_4.reset_index()"
   ]
  },
  {
   "cell_type": "code",
   "execution_count": null,
   "metadata": {},
   "outputs": [
    {
     "data": {
      "text/html": [
       "<div>\n",
       "<style scoped>\n",
       "    .dataframe tbody tr th:only-of-type {\n",
       "        vertical-align: middle;\n",
       "    }\n",
       "\n",
       "    .dataframe tbody tr th {\n",
       "        vertical-align: top;\n",
       "    }\n",
       "\n",
       "    .dataframe thead th {\n",
       "        text-align: right;\n",
       "    }\n",
       "</style>\n",
       "<table border=\"1\" class=\"dataframe\">\n",
       "  <thead>\n",
       "    <tr style=\"text-align: right;\">\n",
       "      <th></th>\n",
       "      <th>index</th>\n",
       "      <th>epoch</th>\n",
       "      <th>name</th>\n",
       "      <th>y_true</th>\n",
       "      <th>y_pred</th>\n",
       "      <th>loss</th>\n",
       "    </tr>\n",
       "  </thead>\n",
       "  <tbody>\n",
       "    <tr>\n",
       "      <th>1847</th>\n",
       "      <td>18</td>\n",
       "      <td>0</td>\n",
       "      <td>IncomeTax</td>\n",
       "      <td>0.0</td>\n",
       "      <td>0.0</td>\n",
       "      <td>0.052632</td>\n",
       "    </tr>\n",
       "    <tr>\n",
       "      <th>1866</th>\n",
       "      <td>37</td>\n",
       "      <td>0</td>\n",
       "      <td>IncomeTax</td>\n",
       "      <td>0.0</td>\n",
       "      <td>0.0</td>\n",
       "      <td>0.052632</td>\n",
       "    </tr>\n",
       "    <tr>\n",
       "      <th>1885</th>\n",
       "      <td>56</td>\n",
       "      <td>0</td>\n",
       "      <td>IncomeTax</td>\n",
       "      <td>0.0</td>\n",
       "      <td>0.0</td>\n",
       "      <td>0.052632</td>\n",
       "    </tr>\n",
       "    <tr>\n",
       "      <th>1904</th>\n",
       "      <td>75</td>\n",
       "      <td>0</td>\n",
       "      <td>IncomeTax</td>\n",
       "      <td>0.0</td>\n",
       "      <td>0.0</td>\n",
       "      <td>0.104175</td>\n",
       "    </tr>\n",
       "  </tbody>\n",
       "</table>\n",
       "</div>"
      ],
      "text/plain": [
       "      index  epoch       name  y_true  y_pred      loss\n",
       "1847     18      0  IncomeTax     0.0     0.0  0.052632\n",
       "1866     37      0  IncomeTax     0.0     0.0  0.052632\n",
       "1885     56      0  IncomeTax     0.0     0.0  0.052632\n",
       "1904     75      0  IncomeTax     0.0     0.0  0.104175"
      ]
     },
     "execution_count": 38,
     "metadata": {},
     "output_type": "execute_result"
    }
   ],
   "source": [
    "df[df.name == \"IncomeTax\"]"
   ]
  },
  {
   "cell_type": "code",
   "execution_count": null,
   "metadata": {},
   "outputs": [
    {
     "data": {
      "application/vnd.plotly.v1+json": {
       "config": {
        "plotlyServerURL": "https://plot.ly"
       },
       "data": [
        {
         "alignmentgroup": "True",
         "customdata": [
          [
           1,
           0,
           44694162432
          ],
          [
           1,
           0,
           39741673984
          ],
          [
           1,
           0,
           46122287104
          ],
          [
           1,
           0,
           42014130176
          ],
          [
           1,
           0,
           10773074048
          ],
          [
           1,
           0,
           3007508544
          ],
          [
           1,
           0,
           829022880
          ],
          [
           1,
           0,
           -38406144
          ],
          [
           1,
           0,
           1115946960
          ],
          [
           1,
           0,
           -36485120
          ],
          [
           1,
           0,
           -74858496
          ],
          [
           1,
           0,
           492505600
          ],
          [
           1,
           0,
           -47115776
          ],
          [
           1,
           0,
           -1920768
          ],
          [
           1,
           0,
           -15408640
          ],
          [
           1,
           0,
           67301424
          ],
          [
           1,
           0,
           24131
          ],
          [
           1,
           0,
           -13298
          ],
          [
           1,
           0,
           75265
          ],
          [
           1,
           0,
           -4815
          ],
          [
           1,
           0,
           11234
          ],
          [
           1,
           0,
           -5988
          ],
          [
           1,
           0,
           1225
          ],
          [
           1,
           0,
           -217
          ],
          [
           1,
           0,
           1871
          ],
          [
           1,
           0,
           0
          ],
          [
           1,
           0,
           0
          ],
          [
           1,
           0,
           0
          ],
          [
           1,
           0,
           0
          ],
          [
           1,
           0,
           0
          ],
          [
           1,
           0,
           0
          ],
          [
           1,
           0,
           0
          ],
          [
           1,
           0,
           0
          ],
          [
           1,
           0,
           0
          ],
          [
           1,
           0,
           0
          ],
          [
           1,
           0,
           0
          ],
          [
           1,
           0,
           0
          ],
          [
           1,
           0,
           0
          ],
          [
           1,
           0,
           0
          ],
          [
           1,
           0,
           0
          ],
          [
           1,
           0,
           0
          ],
          [
           1,
           0,
           0
          ],
          [
           1,
           0,
           0
          ],
          [
           1,
           0,
           0
          ],
          [
           1,
           0,
           0
          ],
          [
           1,
           0,
           0
          ],
          [
           1,
           0,
           0
          ],
          [
           1,
           0,
           0
          ],
          [
           1,
           0,
           0
          ],
          [
           1,
           0,
           0
          ],
          [
           1,
           0,
           0
          ],
          [
           1,
           0,
           0
          ],
          [
           1,
           0,
           0
          ],
          [
           1,
           0,
           0
          ],
          [
           1,
           0,
           0
          ],
          [
           1,
           0,
           0
          ],
          [
           1,
           0,
           0
          ],
          [
           1,
           0,
           0
          ],
          [
           1,
           0,
           0
          ],
          [
           1,
           0,
           0
          ],
          [
           1,
           0,
           0
          ],
          [
           1,
           0,
           0
          ],
          [
           1,
           0,
           0
          ],
          [
           1,
           0,
           0
          ],
          [
           1,
           0,
           0
          ],
          [
           1,
           0,
           0
          ],
          [
           1,
           0,
           0
          ],
          [
           1,
           0,
           0
          ],
          [
           1,
           0,
           0
          ],
          [
           1,
           0,
           0
          ],
          [
           1,
           0,
           0
          ],
          [
           1,
           0,
           0
          ],
          [
           1,
           0,
           0
          ],
          [
           1,
           0,
           0
          ],
          [
           1,
           0,
           0
          ],
          [
           1,
           0,
           0
          ],
          [
           1,
           0,
           0
          ],
          [
           1,
           0,
           0
          ],
          [
           1,
           0,
           0
          ],
          [
           1,
           0,
           0
          ],
          [
           1,
           0,
           0
          ],
          [
           1,
           0,
           0
          ],
          [
           1,
           0,
           0
          ],
          [
           1,
           0,
           0
          ],
          [
           1,
           0,
           0
          ],
          [
           1,
           0,
           0
          ],
          [
           1,
           0,
           0
          ],
          [
           1,
           0,
           0
          ],
          [
           1,
           0,
           0
          ],
          [
           1,
           0,
           0
          ],
          [
           1,
           0,
           0
          ],
          [
           1,
           0,
           0
          ],
          [
           1,
           0,
           0
          ],
          [
           1,
           0,
           0
          ],
          [
           1,
           0,
           0
          ],
          [
           1,
           0,
           0
          ],
          [
           1,
           0,
           0
          ],
          [
           1,
           0,
           0
          ],
          [
           1,
           0,
           0
          ],
          [
           1,
           0,
           0
          ],
          [
           1,
           0,
           0
          ],
          [
           1,
           0,
           0
          ],
          [
           1,
           0,
           0
          ],
          [
           1,
           0,
           0
          ],
          [
           1,
           0,
           0
          ],
          [
           1,
           0,
           0
          ],
          [
           1,
           0,
           0
          ],
          [
           1,
           0,
           0
          ],
          [
           1,
           0,
           0
          ],
          [
           1,
           0,
           0
          ],
          [
           1,
           0,
           0
          ],
          [
           1,
           0,
           0
          ],
          [
           1,
           0,
           0
          ],
          [
           1,
           0,
           0
          ],
          [
           1,
           0,
           0
          ],
          [
           1,
           0,
           0
          ],
          [
           1,
           0,
           0
          ],
          [
           1,
           0,
           0
          ],
          [
           1,
           0,
           0
          ],
          [
           1,
           0,
           0
          ],
          [
           1,
           0,
           0
          ],
          [
           1,
           0,
           0
          ],
          [
           1,
           0,
           0
          ],
          [
           1,
           0,
           0
          ],
          [
           1,
           0,
           0
          ],
          [
           1,
           0,
           0
          ],
          [
           1,
           0,
           0
          ],
          [
           1,
           0,
           0
          ],
          [
           1,
           0,
           0
          ],
          [
           1,
           0,
           0
          ],
          [
           1,
           0,
           0
          ],
          [
           1,
           0,
           0
          ],
          [
           1,
           0,
           0
          ],
          [
           1,
           0,
           0
          ],
          [
           1,
           0,
           0
          ],
          [
           1,
           0,
           0
          ],
          [
           1,
           0,
           0
          ],
          [
           1,
           0,
           0
          ],
          [
           1,
           0,
           0
          ],
          [
           1,
           0,
           0
          ],
          [
           1,
           0,
           0
          ],
          [
           1,
           0,
           0
          ],
          [
           1,
           0,
           0
          ],
          [
           1,
           0,
           0
          ],
          [
           1,
           0,
           0
          ],
          [
           1,
           0,
           0
          ],
          [
           1,
           0,
           0
          ],
          [
           1,
           0,
           0
          ],
          [
           1,
           0,
           0
          ],
          [
           1,
           0,
           0
          ],
          [
           1,
           0,
           0
          ],
          [
           1,
           0,
           0
          ],
          [
           1,
           0,
           0
          ],
          [
           1,
           0,
           0
          ],
          [
           1,
           0,
           0
          ],
          [
           1,
           0,
           0
          ],
          [
           1,
           0,
           0
          ],
          [
           1,
           0,
           0
          ],
          [
           1,
           0,
           0
          ],
          [
           1,
           0,
           0
          ],
          [
           1,
           0,
           0
          ],
          [
           1,
           0,
           0
          ],
          [
           1,
           0,
           0
          ],
          [
           1,
           0,
           0
          ],
          [
           1,
           0,
           0
          ],
          [
           1,
           0,
           0
          ],
          [
           1,
           0,
           0
          ],
          [
           1,
           0,
           0
          ],
          [
           1,
           0,
           0
          ],
          [
           1,
           0,
           0
          ],
          [
           1,
           0,
           0
          ],
          [
           1,
           0,
           0
          ],
          [
           1,
           0,
           0
          ],
          [
           1,
           0,
           0
          ],
          [
           1,
           0,
           0
          ],
          [
           1,
           0,
           0
          ],
          [
           1,
           0,
           0
          ],
          [
           1,
           0,
           0
          ],
          [
           1,
           0,
           0
          ],
          [
           1,
           0,
           0
          ],
          [
           1,
           0,
           0
          ],
          [
           1,
           0,
           0
          ],
          [
           1,
           0,
           0
          ],
          [
           1,
           0,
           0
          ],
          [
           1,
           0,
           0
          ],
          [
           1,
           0,
           0
          ],
          [
           1,
           0,
           0
          ],
          [
           1,
           0,
           0
          ],
          [
           1,
           0,
           0
          ],
          [
           1,
           0,
           0
          ],
          [
           1,
           0,
           0
          ],
          [
           1,
           0,
           0
          ],
          [
           1,
           0,
           0
          ],
          [
           1,
           0,
           0
          ],
          [
           1,
           0,
           0
          ],
          [
           1,
           0,
           0
          ],
          [
           1,
           0,
           0
          ],
          [
           1,
           0,
           0
          ],
          [
           1,
           0,
           0
          ],
          [
           1,
           0,
           0
          ],
          [
           1,
           0,
           0
          ],
          [
           1,
           0,
           0
          ],
          [
           1,
           0,
           0
          ],
          [
           1,
           0,
           0
          ],
          [
           1,
           0,
           0
          ],
          [
           1,
           0,
           0
          ],
          [
           1,
           0,
           0
          ],
          [
           1,
           0,
           0
          ],
          [
           1,
           0,
           0
          ],
          [
           1,
           0,
           0
          ],
          [
           1,
           0,
           0
          ],
          [
           1,
           0,
           0
          ],
          [
           1,
           0,
           0
          ],
          [
           1,
           0,
           0
          ],
          [
           1,
           0,
           0
          ],
          [
           1,
           0,
           0
          ],
          [
           1,
           0,
           0
          ],
          [
           1,
           0,
           0
          ],
          [
           1,
           0,
           0
          ],
          [
           1,
           0,
           0
          ],
          [
           1,
           0,
           0
          ],
          [
           1,
           0,
           0
          ],
          [
           1,
           0,
           0
          ],
          [
           1,
           0,
           0
          ],
          [
           1,
           0,
           0
          ],
          [
           1,
           0,
           0
          ],
          [
           1,
           0,
           0
          ],
          [
           1,
           0,
           0
          ],
          [
           1,
           0,
           0
          ],
          [
           1,
           0,
           0
          ],
          [
           1,
           0,
           0
          ],
          [
           1,
           0,
           0
          ],
          [
           1,
           0,
           0
          ],
          [
           1,
           0,
           0
          ],
          [
           1,
           0,
           0
          ],
          [
           1,
           0,
           0
          ],
          [
           1,
           0,
           0
          ],
          [
           1,
           0,
           0
          ],
          [
           1,
           0,
           0
          ],
          [
           1,
           0,
           0
          ],
          [
           1,
           0,
           0
          ],
          [
           1,
           0,
           0
          ],
          [
           1,
           0,
           0
          ],
          [
           1,
           0,
           0
          ],
          [
           1,
           0,
           0
          ],
          [
           1,
           0,
           0
          ],
          [
           1,
           0,
           0
          ],
          [
           1,
           0,
           0
          ],
          [
           1,
           0,
           0
          ],
          [
           1,
           0,
           0
          ],
          [
           1,
           0,
           0
          ],
          [
           1,
           0,
           0
          ],
          [
           1,
           0,
           0
          ],
          [
           1,
           0,
           0
          ],
          [
           1,
           0,
           0
          ],
          [
           1,
           0,
           0
          ],
          [
           1,
           0,
           0
          ],
          [
           1,
           0,
           0
          ],
          [
           1,
           0,
           0
          ],
          [
           1,
           0,
           0
          ],
          [
           1,
           0,
           0
          ],
          [
           1,
           0,
           0
          ],
          [
           1,
           0,
           0
          ],
          [
           1,
           0,
           0
          ],
          [
           1,
           0,
           0
          ],
          [
           1,
           0,
           0
          ],
          [
           1,
           0,
           0
          ],
          [
           1,
           0,
           0
          ],
          [
           1,
           0,
           0
          ],
          [
           1,
           0,
           0
          ],
          [
           1,
           0,
           0
          ],
          [
           1,
           0,
           0
          ],
          [
           1,
           0,
           0
          ],
          [
           1,
           0,
           0
          ],
          [
           1,
           0,
           0
          ],
          [
           1,
           0,
           0
          ],
          [
           1,
           0,
           0
          ],
          [
           1,
           0,
           0
          ],
          [
           1,
           0,
           0
          ],
          [
           1,
           0,
           0
          ],
          [
           1,
           0,
           0
          ],
          [
           1,
           0,
           0
          ],
          [
           1,
           0,
           0
          ],
          [
           1,
           0,
           0
          ],
          [
           1,
           0,
           0
          ],
          [
           1,
           0,
           0
          ],
          [
           1,
           0,
           0
          ],
          [
           1,
           0,
           0
          ],
          [
           1,
           0,
           0
          ],
          [
           1,
           0,
           0
          ],
          [
           1,
           0,
           0
          ],
          [
           1,
           0,
           0
          ],
          [
           1,
           0,
           0
          ],
          [
           1,
           0,
           0
          ],
          [
           1,
           0,
           0
          ],
          [
           1,
           0,
           0
          ],
          [
           1,
           0,
           0
          ],
          [
           1,
           0,
           0
          ],
          [
           1,
           0,
           0
          ],
          [
           1,
           0,
           0
          ],
          [
           1,
           0,
           0
          ],
          [
           1,
           0,
           0
          ],
          [
           1,
           0,
           0
          ],
          [
           1,
           0,
           0
          ],
          [
           1,
           0,
           0
          ],
          [
           1,
           0,
           0
          ],
          [
           1,
           0,
           0
          ],
          [
           1,
           0,
           0
          ],
          [
           1,
           0,
           0
          ],
          [
           1,
           0,
           0
          ],
          [
           1,
           0,
           0
          ],
          [
           1,
           0,
           0
          ],
          [
           1,
           0,
           0
          ],
          [
           1,
           0,
           0
          ],
          [
           1,
           0,
           0
          ],
          [
           1,
           0,
           0
          ],
          [
           1,
           0,
           0
          ],
          [
           1,
           0,
           0
          ],
          [
           1,
           0,
           0
          ],
          [
           1,
           0,
           0
          ],
          [
           1,
           0,
           0
          ],
          [
           1,
           0,
           0
          ],
          [
           1,
           0,
           0
          ],
          [
           1,
           0,
           0
          ],
          [
           1,
           0,
           0
          ],
          [
           1,
           0,
           0
          ],
          [
           1,
           0,
           0
          ],
          [
           1,
           0,
           0
          ],
          [
           1,
           0,
           0
          ],
          [
           1,
           0,
           0
          ],
          [
           1,
           0,
           0
          ],
          [
           1,
           0,
           0
          ],
          [
           1,
           0,
           0
          ],
          [
           1,
           0,
           0
          ],
          [
           1,
           0,
           0
          ],
          [
           1,
           0,
           0
          ],
          [
           1,
           0,
           0
          ],
          [
           1,
           0,
           0
          ],
          [
           1,
           0,
           0
          ],
          [
           1,
           0,
           0
          ],
          [
           1,
           0,
           0
          ],
          [
           1,
           0,
           0
          ],
          [
           1,
           0,
           0
          ],
          [
           1,
           0,
           0
          ],
          [
           1,
           0,
           0
          ],
          [
           1,
           0,
           0
          ],
          [
           1,
           0,
           0
          ],
          [
           1,
           0,
           0
          ],
          [
           1,
           0,
           0
          ],
          [
           1,
           0,
           0
          ],
          [
           1,
           0,
           0
          ],
          [
           1,
           0,
           0
          ],
          [
           1,
           0,
           0
          ],
          [
           1,
           0,
           0
          ],
          [
           1,
           0,
           0
          ],
          [
           1,
           0,
           0
          ],
          [
           1,
           0,
           0
          ],
          [
           1,
           0,
           0
          ],
          [
           1,
           0,
           0
          ],
          [
           1,
           0,
           0
          ],
          [
           1,
           0,
           0
          ],
          [
           1,
           0,
           0
          ],
          [
           1,
           0,
           0
          ],
          [
           1,
           0,
           0
          ],
          [
           1,
           0,
           0
          ],
          [
           1,
           0,
           0
          ],
          [
           1,
           0,
           0
          ],
          [
           1,
           0,
           0
          ],
          [
           1,
           0,
           0
          ],
          [
           1,
           0,
           0
          ],
          [
           1,
           0,
           0
          ],
          [
           1,
           0,
           0
          ],
          [
           1,
           0,
           0
          ],
          [
           1,
           0,
           0
          ],
          [
           1,
           0,
           0
          ],
          [
           1,
           0,
           0
          ],
          [
           1,
           0,
           0
          ],
          [
           1,
           0,
           0
          ],
          [
           1,
           0,
           0
          ],
          [
           1,
           0,
           0
          ],
          [
           1,
           0,
           0
          ],
          [
           1,
           0,
           0
          ],
          [
           1,
           0,
           0
          ],
          [
           1,
           0,
           0
          ],
          [
           1,
           0,
           0
          ],
          [
           1,
           0,
           0
          ],
          [
           1,
           0,
           0
          ],
          [
           1,
           0,
           0
          ],
          [
           1,
           0,
           0
          ],
          [
           1,
           0,
           0
          ],
          [
           1,
           0,
           0
          ],
          [
           1,
           0,
           0
          ],
          [
           1,
           0,
           0
          ],
          [
           1,
           0,
           0
          ],
          [
           1,
           0,
           0
          ],
          [
           1,
           0,
           0
          ],
          [
           1,
           0,
           0
          ],
          [
           1,
           0,
           0
          ],
          [
           1,
           0,
           0
          ],
          [
           1,
           0,
           0
          ],
          [
           1,
           0,
           0
          ],
          [
           1,
           0,
           0
          ],
          [
           1,
           0,
           0
          ],
          [
           1,
           0,
           0
          ],
          [
           1,
           0,
           0
          ],
          [
           1,
           0,
           0
          ],
          [
           1,
           0,
           0
          ],
          [
           1,
           0,
           0
          ],
          [
           1,
           0,
           0
          ],
          [
           1,
           0,
           0
          ],
          [
           1,
           0,
           0
          ],
          [
           1,
           0,
           0
          ],
          [
           1,
           0,
           0
          ],
          [
           1,
           0,
           0
          ],
          [
           1,
           0,
           0
          ],
          [
           1,
           0,
           0
          ],
          [
           1,
           0,
           0
          ],
          [
           1,
           0,
           0
          ],
          [
           1,
           0,
           0
          ],
          [
           1,
           0,
           0
          ],
          [
           1,
           0,
           0
          ],
          [
           1,
           0,
           0
          ],
          [
           1,
           0,
           0
          ],
          [
           1,
           0,
           0
          ],
          [
           1,
           0,
           0
          ],
          [
           1,
           0,
           0
          ],
          [
           1,
           0,
           0
          ],
          [
           1,
           0,
           0
          ],
          [
           1,
           0,
           0
          ],
          [
           1,
           0,
           0
          ],
          [
           1,
           0,
           0
          ],
          [
           1,
           0,
           0
          ],
          [
           1,
           0,
           0
          ],
          [
           1,
           0,
           0
          ],
          [
           1,
           0,
           0
          ],
          [
           1,
           0,
           0
          ],
          [
           1,
           0,
           0
          ],
          [
           1,
           0,
           0
          ],
          [
           1,
           0,
           0
          ],
          [
           1,
           0,
           0
          ],
          [
           1,
           0,
           0
          ],
          [
           1,
           0,
           0
          ],
          [
           1,
           0,
           0
          ],
          [
           1,
           0,
           0
          ],
          [
           1,
           0,
           0
          ],
          [
           1,
           0,
           0
          ],
          [
           1,
           0,
           0
          ],
          [
           1,
           0,
           0
          ],
          [
           1,
           0,
           -225
          ],
          [
           1,
           0,
           5148
          ],
          [
           1,
           0,
           5965
          ],
          [
           1,
           0,
           3304
          ],
          [
           1,
           0,
           -9786
          ],
          [
           1,
           0,
           -71513
          ],
          [
           1,
           0,
           -1779712
          ],
          [
           1,
           0,
           6354944
          ],
          [
           1,
           0,
           -86638592
          ],
          [
           1,
           0,
           -24612256
          ],
          [
           1,
           0,
           -19696128
          ],
          [
           1,
           0,
           56454144
          ],
          [
           1,
           0,
           71663104
          ],
          [
           1,
           0,
           46168064
          ],
          [
           1,
           0,
           -6199296
          ],
          [
           1,
           0,
           124066304
          ],
          [
           1,
           0,
           -7976960
          ],
          [
           1,
           0,
           478998016
          ],
          [
           1,
           0,
           530312352
          ],
          [
           1,
           0,
           553611936
          ],
          [
           1,
           0,
           -88047616
          ],
          [
           1,
           0,
           409387008
          ],
          [
           1,
           0,
           853569536
          ],
          [
           1,
           0,
           3136624640
          ],
          [
           1,
           0,
           1489609728
          ],
          [
           1,
           0,
           2513248256
          ],
          [
           1,
           0,
           2639757312
          ],
          [
           1,
           0,
           8695126016
          ],
          [
           1,
           0,
           6902344704
          ],
          [
           1,
           0,
           4485414912
          ],
          [
           1,
           0,
           8053571584
          ],
          [
           1,
           0,
           6265700352
          ],
          [
           1,
           0,
           6666043392
          ],
          [
           1,
           0,
           -13730489344
          ],
          [
           1,
           0,
           -20277322496
          ],
          [
           1,
           0,
           15387238400
          ],
          [
           1,
           0,
           16754868224
          ],
          [
           1,
           0,
           55485742464
          ],
          [
           1,
           0,
           37888458752
          ],
          [
           1,
           0,
           40359886848
          ]
         ],
         "hovertemplate": "name=%{x}<br>loss=%{y}<br>epoch=%{customdata[0]}<br>y_true=%{customdata[1]}<br>y_pred=%{customdata[2]}<extra></extra>",
         "legendgroup": "",
         "marker": {
          "color": "#636efa",
          "pattern": {
           "shape": ""
          }
         },
         "name": "",
         "offsetgroup": "",
         "orientation": "v",
         "showlegend": false,
         "textposition": "auto",
         "type": "bar",
         "x": [
          "dividend_income_budgetary_impact_UNITED_KINGDOM",
          "dividend_income_budgetary_impact_ENGLAND",
          "income_tax_UNITED_KINGDOM",
          "income_tax_ENGLAND",
          "income_tax_by_income_9",
          "dividend_income_budgetary_impact_SCOTLAND",
          "dividend_income_budgetary_impact_WALES",
          "pension_credit_budgetary_impact_GREAT_BRITAIN",
          "dividend_income_budgetary_impact_NORTHERN_IRELAND",
          "pension_credit_budgetary_impact_ENGLAND",
          "self_employment_income_budgetary_impact_WALES",
          "income_tax_WALES",
          "self_employment_income_budgetary_impact_NORTHERN_IRELAND",
          "pension_credit_budgetary_impact_SCOTLAND",
          "total_NI_budgetary_impact_WALES",
          "savings_interest_income_budgetary_impact_NORTHERN_IRELAND",
          "income_tax_payers_ENGLAND_BASIC",
          "universal_credit_participants_GREAT_BRITAIN",
          "income_tax_payers_ENGLAND_ADDITIONAL",
          "pension_credit_participants_GREAT_BRITAIN",
          "income_tax_payers_SCOTLAND_HIGHER",
          "income_tax_payers_NORTHERN_IRELAND_HIGHER",
          "income_tax_payers_WALES_BASIC",
          "pension_credit_participants_NORTHERN_IRELAND",
          "income_tax_payers_WALES_ADDITIONAL",
          "NORTH_EAST_MALE_60_70",
          "MALE_60_70",
          "SOUTH_EAST_FEMALE_60_70",
          "WEST_MIDLANDS_MALE_60_70",
          "WALES_MALE_60_70",
          "EAST_OF_ENGLAND_MALE_60_70",
          "50_60",
          "EAST_MIDLANDS_MALE_60_70",
          "NORTH_WEST_MALE_60_70",
          "SOUTH_WEST_MALE_60_70",
          "NORTHERN_IRELAND_MALE_60_70",
          "YORKSHIRE_MALE_60_70",
          "SCOTLAND_MALE_60_70",
          "SOUTH_EAST_MALE_60_70",
          "FEMALE_50_60",
          "WALES_FEMALE_50_60",
          "NORTH_EAST_FEMALE_50_60",
          "LONDON_MALE_60_70",
          "SCOTLAND_FEMALE_60_70",
          "EAST_MIDLANDS_A",
          "NORTHERN_IRELAND_FEMALE_60_70",
          "SOUTH_EAST_FEMALE_70_80",
          "MALE_70_80",
          "WALES_MALE_70_80",
          "NORTH_EAST_MALE_70_80",
          "WEST_MIDLANDS_MALE_70_80",
          "EAST_OF_ENGLAND_MALE_70_80",
          "LONDON_MALE_70_80",
          "EAST_MIDLANDS_MALE_70_80",
          "NORTH_WEST_MALE_70_80",
          "SOUTH_WEST_MALE_70_80",
          "NORTHERN_IRELAND_MALE_70_80",
          "YORKSHIRE_MALE_70_80",
          "SCOTLAND_MALE_70_80",
          "SOUTH_EAST_MALE_70_80",
          "60_70",
          "FEMALE_60_70",
          "WALES_FEMALE_60_70",
          "NORTH_EAST_FEMALE_60_70",
          "EAST_OF_ENGLAND_FEMALE_60_70",
          "LONDON_FEMALE_60_70",
          "EAST_MIDLANDS_FEMALE_60_70",
          "NORTH_WEST_FEMALE_60_70",
          "SOUTH_WEST_FEMALE_60_70",
          "YORKSHIRE_FEMALE_60_70",
          "WEST_MIDLANDS_FEMALE_60_70",
          "SCOTLAND_FEMALE_50_60",
          "EAST_OF_ENGLAND_FEMALE_50_60",
          "EAST_OF_ENGLAND_FEMALE_40_50",
          "LONDON_FEMALE_40_50",
          "EAST_MIDLANDS_FEMALE_40_50",
          "NORTH_WEST_FEMALE_40_50",
          "SOUTH_WEST_FEMALE_40_50",
          "YORKSHIRE_FEMALE_40_50",
          "SCOTLAND_FEMALE_40_50",
          "SOUTH_EAST_FEMALE_40_50",
          "MALE_40_50",
          "WALES_MALE_40_50",
          "WEST_MIDLANDS_FEMALE_40_50",
          "NORTH_EAST_MALE_40_50",
          "EAST_OF_ENGLAND_MALE_40_50",
          "LONDON_MALE_40_50",
          "EAST_MIDLANDS_MALE_40_50",
          "NORTH_WEST_MALE_40_50",
          "SOUTH_WEST_MALE_40_50",
          "NORTHERN_IRELAND_MALE_40_50",
          "YORKSHIRE_MALE_40_50",
          "SCOTLAND_MALE_40_50",
          "SOUTH_EAST_MALE_40_50",
          "30_40",
          "WEST_MIDLANDS_MALE_40_50",
          "WEST_MIDLANDS_FEMALE_50_60",
          "NORTH_EAST_FEMALE_40_50",
          "FEMALE_40_50",
          "LONDON_FEMALE_50_60",
          "EAST_MIDLANDS_FEMALE_50_60",
          "NORTH_WEST_FEMALE_50_60",
          "SOUTH_WEST_FEMALE_50_60",
          "NORTHERN_IRELAND_FEMALE_50_60",
          "YORKSHIRE_FEMALE_50_60",
          "SCOTLAND_FEMALE_70_80",
          "SOUTH_EAST_FEMALE_50_60",
          "MALE_50_60",
          "WALES_MALE_50_60",
          "WALES_FEMALE_40_50",
          "NORTH_EAST_MALE_50_60",
          "EAST_OF_ENGLAND_MALE_50_60",
          "LONDON_MALE_50_60",
          "EAST_MIDLANDS_MALE_50_60",
          "NORTH_WEST_MALE_50_60",
          "SOUTH_WEST_MALE_50_60",
          "NORTHERN_IRELAND_MALE_50_60",
          "YORKSHIRE_MALE_50_60",
          "SCOTLAND_MALE_50_60",
          "SOUTH_EAST_MALE_50_60",
          "40_50",
          "WEST_MIDLANDS_MALE_50_60",
          "YORKSHIRE_FEMALE_70_80",
          "SCOTLAND_MALE_79_89",
          "SOUTH_WEST_FEMALE_70_80",
          "employment_income_participants_NORTHERN_IRELAND",
          "employment_income_participants_SCOTLAND",
          "employment_income_participants_WALES",
          "employment_income_participants_ENGLAND",
          "council_tax_less_benefit_budgetary_impact_GREAT_BRITAIN",
          "JSA_income_participants_GREAT_BRITAIN",
          "JSA_income_budgetary_impact_GREAT_BRITAIN",
          "ESA_income_participants_GREAT_BRITAIN",
          "ESA_income_budgetary_impact_GREAT_BRITAIN",
          "housing_benefit_participants_GREAT_BRITAIN",
          "housing_benefit_budgetary_impact_SCOTLAND",
          "housing_benefit_budgetary_impact_WALES",
          "housing_benefit_budgetary_impact_ENGLAND",
          "housing_benefit_budgetary_impact_GREAT_BRITAIN",
          "state_pension_participants_NORTHERN_IRELAND",
          "state_pension_participants_GREAT_BRITAIN",
          "state_pension_budgetary_impact_SCOTLAND",
          "state_pension_budgetary_impact_WALES",
          "state_pension_budgetary_impact_ENGLAND",
          "state_pension_budgetary_impact_GREAT_BRITAIN",
          "income_support_participants_NORTHERN_IRELAND",
          "self_employment_income_participants_ENGLAND",
          "income_support_participants_GREAT_BRITAIN",
          "self_employment_income_participants_WALES",
          "self_employment_income_participants_NORTHERN_IRELAND",
          "dividend_income_participants_NORTHERN_IRELAND",
          "dividend_income_participants_SCOTLAND",
          "dividend_income_participants_WALES",
          "dividend_income_participants_ENGLAND",
          "property_income_participants_NORTHERN_IRELAND",
          "property_income_participants_SCOTLAND",
          "property_income_participants_WALES",
          "property_income_participants_ENGLAND",
          "property_income_budgetary_impact_NORTHERN_IRELAND",
          "property_income_budgetary_impact_SCOTLAND",
          "property_income_budgetary_impact_WALES",
          "property_income_budgetary_impact_ENGLAND",
          "property_income_budgetary_impact_UNITED_KINGDOM",
          "savings_interest_income_participants_NORTHERN_IRELAND",
          "savings_interest_income_participants_SCOTLAND",
          "savings_interest_income_participants_WALES",
          "savings_interest_income_participants_ENGLAND",
          "pension_income_participants_NORTHERN_IRELAND",
          "pension_income_participants_SCOTLAND",
          "pension_income_participants_WALES",
          "pension_income_participants_ENGLAND",
          "self_employment_income_participants_SCOTLAND",
          "income_support_budgetary_impact_SCOTLAND",
          "income_support_budgetary_impact_WALES",
          "income_support_budgetary_impact_ENGLAND",
          "WALES_MALE_79_89",
          "NORTH_EAST_MALE_79_89",
          "WEST_MIDLANDS_MALE_79_89",
          "EAST_OF_ENGLAND_MALE_79_89",
          "LONDON_MALE_79_89",
          "EAST_MIDLANDS_MALE_79_89",
          "NORTH_WEST_MALE_79_89",
          "SOUTH_WEST_MALE_79_89",
          "NORTHERN_IRELAND_MALE_79_89",
          "YORKSHIRE_MALE_79_89",
          "FEMALE_30_40",
          "SOUTH_EAST_MALE_79_89",
          "70_80",
          "FEMALE_70_80",
          "WALES_FEMALE_70_80",
          "NORTH_EAST_FEMALE_70_80",
          "WEST_MIDLANDS_FEMALE_70_80",
          "EAST_OF_ENGLAND_FEMALE_70_80",
          "LONDON_FEMALE_70_80",
          "EAST_MIDLANDS_FEMALE_70_80",
          "NORTH_WEST_FEMALE_70_80",
          "MALE_79_89",
          "SOUTH_EAST_FEMALE_79_89",
          "SCOTLAND_FEMALE_79_89",
          "YORKSHIRE_FEMALE_79_89",
          "income_support_budgetary_impact_GREAT_BRITAIN",
          "pension_credit_budgetary_impact_WALES",
          "working_tax_credit_participants_GREAT_BRITAIN",
          "working_tax_credit_budgetary_impact_UNITED_KINGDOM",
          "child_tax_credit_participants_UNITED_KINGDOM",
          "child_tax_credit_budgetary_impact_UNITED_KINGDOM",
          "child_benefit_participants_UNITED_KINGDOM",
          "child_benefit_budgetary_impact_UNITED_KINGDOM",
          "universal_credit_participants_NORTHERN_IRELAND",
          "universal_credit_budgetary_impact_WALES",
          "NORTHERN_IRELAND_FEMALE_70_80",
          "people",
          "FEMALE_79_89",
          "WALES_FEMALE_79_89",
          "NORTH_EAST_FEMALE_79_89",
          "WEST_MIDLANDS_FEMALE_79_89",
          "EAST_OF_ENGLAND_FEMALE_79_89",
          "LONDON_FEMALE_79_89",
          "EAST_MIDLANDS_FEMALE_79_89",
          "NORTH_WEST_FEMALE_79_89",
          "SOUTH_WEST_FEMALE_79_89",
          "NORTHERN_IRELAND_FEMALE_79_89",
          "79_89",
          "WALES_FEMALE_30_40",
          "NORTHERN_IRELAND_FEMALE_40_50",
          "WEST_MIDLANDS_FEMALE_30_40",
          "WEST_MIDLANDS_I",
          "WEST_MIDLANDS_H",
          "WEST_MIDLANDS_G",
          "WEST_MIDLANDS_F",
          "WEST_MIDLANDS_E",
          "WEST_MIDLANDS_D",
          "WEST_MIDLANDS_C",
          "WEST_MIDLANDS_B",
          "WEST_MIDLANDS_A",
          "WALES_I",
          "WALES_H",
          "YORKSHIRE_A",
          "WALES_G",
          "WALES_E",
          "WALES_D",
          "WALES_C",
          "WALES_B",
          "WALES_A",
          "SOUTH_WEST_I",
          "SOUTH_WEST_H",
          "SOUTH_WEST_G",
          "SOUTH_WEST_F",
          "SOUTH_WEST_E",
          "SOUTH_WEST_D",
          "WALES_F",
          "SOUTH_WEST_C",
          "YORKSHIRE_B",
          "YORKSHIRE_D",
          "SCOTLAND_OWNER_OCCUPIED",
          "households.WALES",
          "WALES_RENT_FROM_COUNCIL",
          "WALES_RENT_FROM_HA",
          "WALES_RENT_PRIVATELY",
          "WALES_OWNER_OCCUPIED",
          "households.ENGLAND",
          "ENGLAND_RENT_FROM_COUNCIL",
          "ENGLAND_RENT_FROM_HA",
          "ENGLAND_RENT_PRIVATELY",
          "ENGLAND_OWNER_OCCUPIED",
          "YORKSHIRE_C",
          "SCOTLAND_H",
          "SCOTLAND_F",
          "SCOTLAND_E",
          "SCOTLAND_D",
          "SCOTLAND_C",
          "NORTH_EAST_FEMALE_30_40",
          "SCOTLAND_A",
          "YORKSHIRE_I",
          "YORKSHIRE_H",
          "YORKSHIRE_G",
          "YORKSHIRE_F",
          "YORKSHIRE_E",
          "SCOTLAND_G",
          "SCOTLAND_RENT_PRIVATELY",
          "SOUTH_WEST_B",
          "SOUTH_EAST_I",
          "LONDON_G",
          "LONDON_F",
          "LONDON_E",
          "LONDON_D",
          "LONDON_C",
          "LONDON_B",
          "LONDON_A",
          "EAST_OF_ENGLAND_I",
          "EAST_OF_ENGLAND_H",
          "EAST_OF_ENGLAND_G",
          "EAST_OF_ENGLAND_F",
          "LONDON_H",
          "EAST_OF_ENGLAND_E",
          "EAST_OF_ENGLAND_C",
          "EAST_OF_ENGLAND_B",
          "EAST_OF_ENGLAND_A",
          "EAST_MIDLANDS_I",
          "EAST_MIDLANDS_H",
          "EAST_MIDLANDS_G",
          "EAST_MIDLANDS_F",
          "EAST_MIDLANDS_E",
          "EAST_MIDLANDS_D",
          "EAST_MIDLANDS_C",
          "EAST_MIDLANDS_B",
          "EAST_OF_ENGLAND_D",
          "SOUTH_WEST_A",
          "LONDON_I",
          "NORTH_EAST_B",
          "SOUTH_EAST_H",
          "SOUTH_EAST_G",
          "SOUTH_EAST_F",
          "SOUTH_EAST_E",
          "SOUTH_EAST_D",
          "SOUTH_EAST_C",
          "SOUTH_EAST_B",
          "SOUTH_EAST_A",
          "NORTH_WEST_I",
          "NORTH_WEST_H",
          "NORTH_WEST_G",
          "NORTH_EAST_A",
          "NORTH_WEST_F",
          "NORTH_WEST_D",
          "NORTH_WEST_C",
          "NORTH_WEST_B",
          "NORTH_WEST_A",
          "NORTH_EAST_I",
          "NORTH_EAST_H",
          "NORTH_EAST_G",
          "NORTH_EAST_F",
          "NORTH_EAST_E",
          "NORTH_EAST_D",
          "NORTH_EAST_C",
          "NORTH_WEST_E",
          "SCOTLAND_RENT_FROM_HA",
          "SCOTLAND_B",
          "households.SCOTLAND",
          "NORTH_EAST_MALE_30_40",
          "WALES_MALE_30_40",
          "EAST_MIDLANDS_MALE_20_30",
          "NORTH_WEST_MALE_20_30",
          "SOUTH_WEST_MALE_20_30",
          "NORTHERN_IRELAND_MALE_20_30",
          "SCOTLAND_RENT_FROM_COUNCIL",
          "MALE_30_40",
          "SOUTH_EAST_FEMALE_30_40",
          "SCOTLAND_FEMALE_30_40",
          "YORKSHIRE_FEMALE_30_40",
          "LONDON_MALE_20_30",
          "NORTHERN_IRELAND_FEMALE_30_40",
          "YORKSHIRE_MALE_20_30",
          "NORTH_WEST_FEMALE_30_40",
          "EAST_MIDLANDS_FEMALE_30_40",
          "SCOTLAND_MALE_20_30",
          "SOUTH_EAST_MALE_20_30",
          "10_20",
          "FEMALE_10_20",
          "WALES_FEMALE_10_20",
          "NORTH_EAST_FEMALE_10_20",
          "WEST_MIDLANDS_FEMALE_10_20",
          "EAST_OF_ENGLAND_FEMALE_10_20",
          "SOUTH_WEST_FEMALE_30_40",
          "LONDON_FEMALE_10_20",
          "WEST_MIDLANDS_MALE_30_40",
          "WEST_MIDLANDS_MALE_20_30",
          "FEMALE_20_30",
          "WALES_FEMALE_20_30",
          "NORTH_EAST_FEMALE_20_30",
          "WEST_MIDLANDS_FEMALE_20_30",
          "EAST_OF_ENGLAND_FEMALE_20_30",
          "LONDON_FEMALE_20_30",
          "EAST_MIDLANDS_FEMALE_20_30",
          "NORTH_WEST_FEMALE_20_30",
          "SOUTH_WEST_FEMALE_20_30",
          "SCOTLAND_MALE_30_40",
          "YORKSHIRE_MALE_30_40",
          "EAST_OF_ENGLAND_MALE_20_30",
          "NORTHERN_IRELAND_MALE_30_40",
          "NORTHERN_IRELAND_FEMALE_20_30",
          "YORKSHIRE_FEMALE_20_30",
          "SCOTLAND_FEMALE_20_30",
          "SOUTH_EAST_FEMALE_20_30",
          "NORTH_WEST_MALE_30_40",
          "EAST_MIDLANDS_MALE_30_40",
          "LONDON_MALE_30_40",
          "EAST_OF_ENGLAND_MALE_30_40",
          "MALE_20_30",
          "WALES_MALE_20_30",
          "NORTH_EAST_MALE_20_30",
          "SOUTH_WEST_MALE_30_40",
          "EAST_MIDLANDS_FEMALE_10_20",
          "NORTH_WEST_FEMALE_10_20",
          "SOUTH_WEST_FEMALE_10_20",
          "SOUTH_WEST_FEMALE_0_10",
          "NORTHERN_IRELAND_FEMALE_0_10",
          "YORKSHIRE_FEMALE_0_10",
          "SCOTLAND_FEMALE_0_10",
          "SOUTH_EAST_FEMALE_0_10",
          "MALE_0_10",
          "WALES_MALE_0_10",
          "NORTH_EAST_MALE_0_10",
          "WEST_MIDLANDS_MALE_0_10",
          "EAST_OF_ENGLAND_MALE_0_10",
          "LONDON_MALE_0_10",
          "NORTH_WEST_FEMALE_0_10",
          "EAST_MIDLANDS_MALE_0_10",
          "SOUTH_WEST_MALE_0_10",
          "NORTHERN_IRELAND_MALE_0_10",
          "YORKSHIRE_MALE_0_10",
          "SCOTLAND_MALE_0_10",
          "SOUTH_EAST_MALE_0_10",
          "households.UNITED_KINGDOM",
          "households.NORTHERN_IRELAND",
          "NORTHERN_IRELAND_RENT_FROM_COUNCIL",
          "NORTHERN_IRELAND_RENT_FROM_HA",
          "NORTHERN_IRELAND_RENT_PRIVATELY",
          "NORTHERN_IRELAND_OWNER_OCCUPIED",
          "NORTH_WEST_MALE_0_10",
          "EAST_OF_ENGLAND_FEMALE_30_40",
          "LONDON_FEMALE_30_40",
          "EAST_MIDLANDS_FEMALE_0_10",
          "NORTHERN_IRELAND_FEMALE_10_20",
          "YORKSHIRE_FEMALE_10_20",
          "SCOTLAND_FEMALE_10_20",
          "SOUTH_EAST_FEMALE_10_20",
          "MALE_10_20",
          "WALES_MALE_10_20",
          "NORTH_EAST_MALE_10_20",
          "WEST_MIDLANDS_MALE_10_20",
          "EAST_OF_ENGLAND_MALE_10_20",
          "LONDON_MALE_10_20",
          "EAST_MIDLANDS_MALE_10_20",
          "NORTH_WEST_MALE_10_20",
          "SOUTH_WEST_MALE_10_20",
          "NORTHERN_IRELAND_MALE_10_20",
          "YORKSHIRE_MALE_10_20",
          "SCOTLAND_MALE_10_20",
          "SOUTH_EAST_MALE_10_20",
          "0_10",
          "FEMALE_0_10",
          "WALES_FEMALE_0_10",
          "NORTH_EAST_FEMALE_0_10",
          "WEST_MIDLANDS_FEMALE_0_10",
          "EAST_OF_ENGLAND_FEMALE_0_10",
          "LONDON_FEMALE_0_10",
          "20_30",
          "SOUTH_EAST_MALE_30_40",
          "income_tax_payers_WALES_HIGHER",
          "income_tax_payers_SCOTLAND_ADDITIONAL",
          "income_tax_payers_NORTHERN_IRELAND_ADDITIONAL",
          "income_tax_payers_NORTHERN_IRELAND_BASIC",
          "income_tax_payers_SCOTLAND_BASIC",
          "income_tax_payers_ENGLAND_HIGHER",
          "universal_credit_budgetary_impact_SCOTLAND",
          "total_NI_budgetary_impact_NORTHERN_IRELAND",
          "income_tax_by_income_2",
          "income_tax_by_income_0",
          "income_tax_by_income_1",
          "pension_income_budgetary_impact_SCOTLAND",
          "pension_income_budgetary_impact_NORTHERN_IRELAND",
          "employment_income_budgetary_impact_NORTHERN_IRELAND",
          "universal_credit_budgetary_impact_ENGLAND",
          "pension_income_budgetary_impact_WALES",
          "universal_credit_budgetary_impact_GREAT_BRITAIN",
          "income_tax_NORTHERN_IRELAND",
          "savings_interest_income_budgetary_impact_SCOTLAND",
          "savings_interest_income_budgetary_impact_WALES",
          "employment_income_budgetary_impact_WALES",
          "total_NI_budgetary_impact_SCOTLAND",
          "income_tax_by_income_3",
          "income_tax_SCOTLAND",
          "self_employment_income_budgetary_impact_SCOTLAND",
          "employment_income_budgetary_impact_SCOTLAND",
          "pension_income_budgetary_impact_ENGLAND",
          "income_tax_by_income_6",
          "savings_interest_income_budgetary_impact_ENGLAND",
          "income_tax_by_income_4",
          "savings_interest_income_budgetary_impact_UNITED_KINGDOM",
          "total_NI_budgetary_impact_ENGLAND",
          "total_NI_budgetary_impact_UNITED_KINGDOM",
          "income_tax_by_income_5",
          "income_tax_by_income_7",
          "self_employment_income_budgetary_impact_ENGLAND",
          "self_employment_income_budgetary_impact_UNITED_KINGDOM",
          "income_tax_by_income_8",
          "employment_income_budgetary_impact_ENGLAND",
          "employment_income_budgetary_impact_UNITED_KINGDOM"
         ],
         "xaxis": "x",
         "y": [
          -2.966378920889614e+21,
          -2.0027725598062616e+21,
          -368033528230019330000,
          -273061865578634940000,
          -267126275201388500000,
          -9139737022372512000,
          -2206820304821420000,
          -1724280522957389800,
          -1645932511227805700,
          -1386264260299980800,
          -147610191943172100,
          -145532528357277700,
          -20759840389332990,
          -8556949243166720,
          -6589892876304384,
          -664297290072064,
          -727074209792,
          -56401854464,
          -34450821120,
          -24342167552,
          -3423381504,
          -1960650752,
          -1884946432,
          -18055936,
          -9850815,
          0,
          0,
          0,
          0,
          0,
          0,
          0,
          0,
          0,
          0,
          0,
          0,
          0,
          0,
          0,
          0,
          0,
          0,
          0,
          0,
          0,
          0,
          0,
          0,
          0,
          0,
          0,
          0,
          0,
          0,
          0,
          0,
          0,
          0,
          0,
          0,
          0,
          0,
          0,
          0,
          0,
          0,
          0,
          0,
          0,
          0,
          0,
          0,
          0,
          0,
          0,
          0,
          0,
          0,
          0,
          0,
          0,
          0,
          0,
          0,
          0,
          0,
          0,
          0,
          0,
          0,
          0,
          0,
          0,
          0,
          0,
          0,
          0,
          0,
          0,
          0,
          0,
          0,
          0,
          0,
          0,
          0,
          0,
          0,
          0,
          0,
          0,
          0,
          0,
          0,
          0,
          0,
          0,
          0,
          0,
          0,
          0,
          0,
          0,
          0,
          0,
          0,
          0,
          0,
          0,
          0,
          0,
          0,
          0,
          0,
          0,
          0,
          0,
          0,
          0,
          0,
          0,
          0,
          0,
          0,
          0,
          0,
          0,
          0,
          0,
          0,
          0,
          0,
          0,
          0,
          0,
          0,
          0,
          0,
          0,
          0,
          0,
          0,
          0,
          0,
          0,
          0,
          0,
          0,
          0,
          0,
          0,
          0,
          0,
          0,
          0,
          0,
          0,
          0,
          0,
          0,
          0,
          0,
          0,
          0,
          0,
          0,
          0,
          0,
          0,
          0,
          0,
          0,
          0,
          0,
          0,
          0,
          0,
          0,
          0,
          0,
          0,
          0,
          0,
          0,
          0,
          0,
          0,
          0,
          0,
          0,
          0,
          0,
          0,
          0,
          0,
          0,
          0,
          0,
          0,
          0,
          0,
          0,
          0,
          0,
          0,
          0,
          0,
          0,
          0,
          0,
          0,
          0,
          0,
          0,
          0,
          0,
          0,
          0,
          0,
          0,
          0,
          0,
          0,
          0,
          0,
          0,
          0,
          0,
          0,
          0,
          0,
          0,
          0,
          0,
          0,
          0,
          0,
          0,
          0,
          0,
          0,
          0,
          0,
          0,
          0,
          0,
          0,
          0,
          0,
          0,
          0,
          0,
          0,
          0,
          0,
          0,
          0,
          0,
          0,
          0,
          0,
          0,
          0,
          0,
          0,
          0,
          0,
          0,
          0,
          0,
          0,
          0,
          0,
          0,
          0,
          0,
          0,
          0,
          0,
          0,
          0,
          0,
          0,
          0,
          0,
          0,
          0,
          0,
          0,
          0,
          0,
          0,
          0,
          0,
          0,
          0,
          0,
          0,
          0,
          0,
          0,
          0,
          0,
          0,
          0,
          0,
          0,
          0,
          0,
          0,
          0,
          0,
          0,
          0,
          0,
          0,
          0,
          0,
          0,
          0,
          0,
          0,
          0,
          0,
          0,
          0,
          0,
          0,
          0,
          0,
          0,
          0,
          0,
          0,
          0,
          0,
          0,
          0,
          0,
          0,
          0,
          0,
          0,
          0,
          0,
          0,
          0,
          0,
          0,
          0,
          0,
          0,
          0,
          0,
          0,
          0,
          0,
          0,
          0,
          0,
          0,
          0,
          0,
          0,
          0,
          0,
          0,
          0,
          0,
          0,
          0,
          0,
          0,
          0,
          0,
          0,
          0,
          0,
          0,
          0,
          0,
          0,
          0,
          0,
          0,
          0,
          0,
          0,
          0,
          0,
          0,
          0,
          0,
          0,
          0,
          0,
          0,
          0,
          0,
          0,
          0,
          0,
          0,
          0,
          0,
          0,
          0,
          0,
          0,
          0,
          0,
          0,
          0,
          0,
          0,
          0,
          0,
          0,
          0,
          0,
          0,
          0,
          0,
          0,
          0,
          0,
          0,
          12986304,
          28334592,
          233070464,
          2745581568,
          11707678720,
          296141717504,
          2318457706119168,
          7333467679358976,
          10117746264113152,
          12432525867614208,
          29099709100457984,
          40930248056897540,
          71043758417772540,
          137007532597051400,
          140306479797239800,
          170603522700607500,
          199196322580922370,
          301032319135776800,
          325047698698797060,
          405852694117351400,
          495031470906146800,
          1004100612922540000,
          3678678109369925600,
          4126493458602918000,
          5968792879626191000,
          25864278213105025000,
          27647899378613486000,
          44695217762960670000,
          69200134291396230000,
          70055222835050185000,
          94563153399735390000,
          128683815058903400000,
          151270796555282550000,
          176755902754710360000,
          404988083672004400000,
          706788768254410100000,
          1.1787532372757698e+21,
          1.946363347196237e+21,
          6.609180227528976e+21,
          7.945823545659612e+21
         ],
         "yaxis": "y"
        }
       ],
       "layout": {
        "barmode": "relative",
        "legend": {
         "tracegroupgap": 0
        },
        "margin": {
         "t": 60
        },
        "template": {
         "data": {
          "bar": [
           {
            "error_x": {
             "color": "#2a3f5f"
            },
            "error_y": {
             "color": "#2a3f5f"
            },
            "marker": {
             "line": {
              "color": "#E5ECF6",
              "width": 0.5
             },
             "pattern": {
              "fillmode": "overlay",
              "size": 10,
              "solidity": 0.2
             }
            },
            "type": "bar"
           }
          ],
          "barpolar": [
           {
            "marker": {
             "line": {
              "color": "#E5ECF6",
              "width": 0.5
             },
             "pattern": {
              "fillmode": "overlay",
              "size": 10,
              "solidity": 0.2
             }
            },
            "type": "barpolar"
           }
          ],
          "carpet": [
           {
            "aaxis": {
             "endlinecolor": "#2a3f5f",
             "gridcolor": "white",
             "linecolor": "white",
             "minorgridcolor": "white",
             "startlinecolor": "#2a3f5f"
            },
            "baxis": {
             "endlinecolor": "#2a3f5f",
             "gridcolor": "white",
             "linecolor": "white",
             "minorgridcolor": "white",
             "startlinecolor": "#2a3f5f"
            },
            "type": "carpet"
           }
          ],
          "choropleth": [
           {
            "colorbar": {
             "outlinewidth": 0,
             "ticks": ""
            },
            "type": "choropleth"
           }
          ],
          "contour": [
           {
            "colorbar": {
             "outlinewidth": 0,
             "ticks": ""
            },
            "colorscale": [
             [
              0,
              "#0d0887"
             ],
             [
              0.1111111111111111,
              "#46039f"
             ],
             [
              0.2222222222222222,
              "#7201a8"
             ],
             [
              0.3333333333333333,
              "#9c179e"
             ],
             [
              0.4444444444444444,
              "#bd3786"
             ],
             [
              0.5555555555555556,
              "#d8576b"
             ],
             [
              0.6666666666666666,
              "#ed7953"
             ],
             [
              0.7777777777777778,
              "#fb9f3a"
             ],
             [
              0.8888888888888888,
              "#fdca26"
             ],
             [
              1,
              "#f0f921"
             ]
            ],
            "type": "contour"
           }
          ],
          "contourcarpet": [
           {
            "colorbar": {
             "outlinewidth": 0,
             "ticks": ""
            },
            "type": "contourcarpet"
           }
          ],
          "heatmap": [
           {
            "colorbar": {
             "outlinewidth": 0,
             "ticks": ""
            },
            "colorscale": [
             [
              0,
              "#0d0887"
             ],
             [
              0.1111111111111111,
              "#46039f"
             ],
             [
              0.2222222222222222,
              "#7201a8"
             ],
             [
              0.3333333333333333,
              "#9c179e"
             ],
             [
              0.4444444444444444,
              "#bd3786"
             ],
             [
              0.5555555555555556,
              "#d8576b"
             ],
             [
              0.6666666666666666,
              "#ed7953"
             ],
             [
              0.7777777777777778,
              "#fb9f3a"
             ],
             [
              0.8888888888888888,
              "#fdca26"
             ],
             [
              1,
              "#f0f921"
             ]
            ],
            "type": "heatmap"
           }
          ],
          "heatmapgl": [
           {
            "colorbar": {
             "outlinewidth": 0,
             "ticks": ""
            },
            "colorscale": [
             [
              0,
              "#0d0887"
             ],
             [
              0.1111111111111111,
              "#46039f"
             ],
             [
              0.2222222222222222,
              "#7201a8"
             ],
             [
              0.3333333333333333,
              "#9c179e"
             ],
             [
              0.4444444444444444,
              "#bd3786"
             ],
             [
              0.5555555555555556,
              "#d8576b"
             ],
             [
              0.6666666666666666,
              "#ed7953"
             ],
             [
              0.7777777777777778,
              "#fb9f3a"
             ],
             [
              0.8888888888888888,
              "#fdca26"
             ],
             [
              1,
              "#f0f921"
             ]
            ],
            "type": "heatmapgl"
           }
          ],
          "histogram": [
           {
            "marker": {
             "pattern": {
              "fillmode": "overlay",
              "size": 10,
              "solidity": 0.2
             }
            },
            "type": "histogram"
           }
          ],
          "histogram2d": [
           {
            "colorbar": {
             "outlinewidth": 0,
             "ticks": ""
            },
            "colorscale": [
             [
              0,
              "#0d0887"
             ],
             [
              0.1111111111111111,
              "#46039f"
             ],
             [
              0.2222222222222222,
              "#7201a8"
             ],
             [
              0.3333333333333333,
              "#9c179e"
             ],
             [
              0.4444444444444444,
              "#bd3786"
             ],
             [
              0.5555555555555556,
              "#d8576b"
             ],
             [
              0.6666666666666666,
              "#ed7953"
             ],
             [
              0.7777777777777778,
              "#fb9f3a"
             ],
             [
              0.8888888888888888,
              "#fdca26"
             ],
             [
              1,
              "#f0f921"
             ]
            ],
            "type": "histogram2d"
           }
          ],
          "histogram2dcontour": [
           {
            "colorbar": {
             "outlinewidth": 0,
             "ticks": ""
            },
            "colorscale": [
             [
              0,
              "#0d0887"
             ],
             [
              0.1111111111111111,
              "#46039f"
             ],
             [
              0.2222222222222222,
              "#7201a8"
             ],
             [
              0.3333333333333333,
              "#9c179e"
             ],
             [
              0.4444444444444444,
              "#bd3786"
             ],
             [
              0.5555555555555556,
              "#d8576b"
             ],
             [
              0.6666666666666666,
              "#ed7953"
             ],
             [
              0.7777777777777778,
              "#fb9f3a"
             ],
             [
              0.8888888888888888,
              "#fdca26"
             ],
             [
              1,
              "#f0f921"
             ]
            ],
            "type": "histogram2dcontour"
           }
          ],
          "mesh3d": [
           {
            "colorbar": {
             "outlinewidth": 0,
             "ticks": ""
            },
            "type": "mesh3d"
           }
          ],
          "parcoords": [
           {
            "line": {
             "colorbar": {
              "outlinewidth": 0,
              "ticks": ""
             }
            },
            "type": "parcoords"
           }
          ],
          "pie": [
           {
            "automargin": true,
            "type": "pie"
           }
          ],
          "scatter": [
           {
            "marker": {
             "colorbar": {
              "outlinewidth": 0,
              "ticks": ""
             }
            },
            "type": "scatter"
           }
          ],
          "scatter3d": [
           {
            "line": {
             "colorbar": {
              "outlinewidth": 0,
              "ticks": ""
             }
            },
            "marker": {
             "colorbar": {
              "outlinewidth": 0,
              "ticks": ""
             }
            },
            "type": "scatter3d"
           }
          ],
          "scattercarpet": [
           {
            "marker": {
             "colorbar": {
              "outlinewidth": 0,
              "ticks": ""
             }
            },
            "type": "scattercarpet"
           }
          ],
          "scattergeo": [
           {
            "marker": {
             "colorbar": {
              "outlinewidth": 0,
              "ticks": ""
             }
            },
            "type": "scattergeo"
           }
          ],
          "scattergl": [
           {
            "marker": {
             "colorbar": {
              "outlinewidth": 0,
              "ticks": ""
             }
            },
            "type": "scattergl"
           }
          ],
          "scattermapbox": [
           {
            "marker": {
             "colorbar": {
              "outlinewidth": 0,
              "ticks": ""
             }
            },
            "type": "scattermapbox"
           }
          ],
          "scatterpolar": [
           {
            "marker": {
             "colorbar": {
              "outlinewidth": 0,
              "ticks": ""
             }
            },
            "type": "scatterpolar"
           }
          ],
          "scatterpolargl": [
           {
            "marker": {
             "colorbar": {
              "outlinewidth": 0,
              "ticks": ""
             }
            },
            "type": "scatterpolargl"
           }
          ],
          "scatterternary": [
           {
            "marker": {
             "colorbar": {
              "outlinewidth": 0,
              "ticks": ""
             }
            },
            "type": "scatterternary"
           }
          ],
          "surface": [
           {
            "colorbar": {
             "outlinewidth": 0,
             "ticks": ""
            },
            "colorscale": [
             [
              0,
              "#0d0887"
             ],
             [
              0.1111111111111111,
              "#46039f"
             ],
             [
              0.2222222222222222,
              "#7201a8"
             ],
             [
              0.3333333333333333,
              "#9c179e"
             ],
             [
              0.4444444444444444,
              "#bd3786"
             ],
             [
              0.5555555555555556,
              "#d8576b"
             ],
             [
              0.6666666666666666,
              "#ed7953"
             ],
             [
              0.7777777777777778,
              "#fb9f3a"
             ],
             [
              0.8888888888888888,
              "#fdca26"
             ],
             [
              1,
              "#f0f921"
             ]
            ],
            "type": "surface"
           }
          ],
          "table": [
           {
            "cells": {
             "fill": {
              "color": "#EBF0F8"
             },
             "line": {
              "color": "white"
             }
            },
            "header": {
             "fill": {
              "color": "#C8D4E3"
             },
             "line": {
              "color": "white"
             }
            },
            "type": "table"
           }
          ]
         },
         "layout": {
          "annotationdefaults": {
           "arrowcolor": "#2a3f5f",
           "arrowhead": 0,
           "arrowwidth": 1
          },
          "autotypenumbers": "strict",
          "coloraxis": {
           "colorbar": {
            "outlinewidth": 0,
            "ticks": ""
           }
          },
          "colorscale": {
           "diverging": [
            [
             0,
             "#8e0152"
            ],
            [
             0.1,
             "#c51b7d"
            ],
            [
             0.2,
             "#de77ae"
            ],
            [
             0.3,
             "#f1b6da"
            ],
            [
             0.4,
             "#fde0ef"
            ],
            [
             0.5,
             "#f7f7f7"
            ],
            [
             0.6,
             "#e6f5d0"
            ],
            [
             0.7,
             "#b8e186"
            ],
            [
             0.8,
             "#7fbc41"
            ],
            [
             0.9,
             "#4d9221"
            ],
            [
             1,
             "#276419"
            ]
           ],
           "sequential": [
            [
             0,
             "#0d0887"
            ],
            [
             0.1111111111111111,
             "#46039f"
            ],
            [
             0.2222222222222222,
             "#7201a8"
            ],
            [
             0.3333333333333333,
             "#9c179e"
            ],
            [
             0.4444444444444444,
             "#bd3786"
            ],
            [
             0.5555555555555556,
             "#d8576b"
            ],
            [
             0.6666666666666666,
             "#ed7953"
            ],
            [
             0.7777777777777778,
             "#fb9f3a"
            ],
            [
             0.8888888888888888,
             "#fdca26"
            ],
            [
             1,
             "#f0f921"
            ]
           ],
           "sequentialminus": [
            [
             0,
             "#0d0887"
            ],
            [
             0.1111111111111111,
             "#46039f"
            ],
            [
             0.2222222222222222,
             "#7201a8"
            ],
            [
             0.3333333333333333,
             "#9c179e"
            ],
            [
             0.4444444444444444,
             "#bd3786"
            ],
            [
             0.5555555555555556,
             "#d8576b"
            ],
            [
             0.6666666666666666,
             "#ed7953"
            ],
            [
             0.7777777777777778,
             "#fb9f3a"
            ],
            [
             0.8888888888888888,
             "#fdca26"
            ],
            [
             1,
             "#f0f921"
            ]
           ]
          },
          "colorway": [
           "#636efa",
           "#EF553B",
           "#00cc96",
           "#ab63fa",
           "#FFA15A",
           "#19d3f3",
           "#FF6692",
           "#B6E880",
           "#FF97FF",
           "#FECB52"
          ],
          "font": {
           "color": "#2a3f5f"
          },
          "geo": {
           "bgcolor": "white",
           "lakecolor": "white",
           "landcolor": "#E5ECF6",
           "showlakes": true,
           "showland": true,
           "subunitcolor": "white"
          },
          "hoverlabel": {
           "align": "left"
          },
          "hovermode": "closest",
          "mapbox": {
           "style": "light"
          },
          "paper_bgcolor": "white",
          "plot_bgcolor": "#E5ECF6",
          "polar": {
           "angularaxis": {
            "gridcolor": "white",
            "linecolor": "white",
            "ticks": ""
           },
           "bgcolor": "#E5ECF6",
           "radialaxis": {
            "gridcolor": "white",
            "linecolor": "white",
            "ticks": ""
           }
          },
          "scene": {
           "xaxis": {
            "backgroundcolor": "#E5ECF6",
            "gridcolor": "white",
            "gridwidth": 2,
            "linecolor": "white",
            "showbackground": true,
            "ticks": "",
            "zerolinecolor": "white"
           },
           "yaxis": {
            "backgroundcolor": "#E5ECF6",
            "gridcolor": "white",
            "gridwidth": 2,
            "linecolor": "white",
            "showbackground": true,
            "ticks": "",
            "zerolinecolor": "white"
           },
           "zaxis": {
            "backgroundcolor": "#E5ECF6",
            "gridcolor": "white",
            "gridwidth": 2,
            "linecolor": "white",
            "showbackground": true,
            "ticks": "",
            "zerolinecolor": "white"
           }
          },
          "shapedefaults": {
           "line": {
            "color": "#2a3f5f"
           }
          },
          "ternary": {
           "aaxis": {
            "gridcolor": "white",
            "linecolor": "white",
            "ticks": ""
           },
           "baxis": {
            "gridcolor": "white",
            "linecolor": "white",
            "ticks": ""
           },
           "bgcolor": "#E5ECF6",
           "caxis": {
            "gridcolor": "white",
            "linecolor": "white",
            "ticks": ""
           }
          },
          "title": {
           "x": 0.05
          },
          "xaxis": {
           "automargin": true,
           "gridcolor": "white",
           "linecolor": "white",
           "ticks": "",
           "title": {
            "standoff": 15
           },
           "zerolinecolor": "white",
           "zerolinewidth": 2
          },
          "yaxis": {
           "automargin": true,
           "gridcolor": "white",
           "linecolor": "white",
           "ticks": "",
           "title": {
            "standoff": 15
           },
           "zerolinecolor": "white",
           "zerolinewidth": 2
          }
         }
        },
        "xaxis": {
         "anchor": "y",
         "domain": [
          0,
          1
         ],
         "title": {
          "text": "name"
         }
        },
        "yaxis": {
         "anchor": "x",
         "domain": [
          0,
          1
         ],
         "title": {
          "text": "loss"
         }
        }
       }
      }
     },
     "metadata": {},
     "output_type": "display_data"
    }
   ],
   "source": [
    "import plotly.express as px\n",
    "import numpy as np\n",
    "\n",
    "px.bar(\n",
    "    df_4.sort_values(\"loss\"),\n",
    "    y=\"loss\",\n",
    "    x=\"name\",\n",
    "    hover_data=df_4.columns\n",
    ")"
   ]
  }
 ],
 "metadata": {
  "kernelspec": {
   "display_name": "Python 3.9.12 ('base')",
   "language": "python",
   "name": "python3"
  },
  "language_info": {
   "codemirror_mode": {
    "name": "ipython",
    "version": 3
   },
   "file_extension": ".py",
   "mimetype": "text/x-python",
   "name": "python",
   "nbconvert_exporter": "python",
   "pygments_lexer": "ipython3",
   "version": "3.9.12"
  },
  "orig_nbformat": 4,
  "vscode": {
   "interpreter": {
    "hash": "40d3a090f54c6569ab1632332b64b2c03c39dcf918b08424e98f38b5ae0af88f"
   }
  }
 },
 "nbformat": 4,
 "nbformat_minor": 2
}

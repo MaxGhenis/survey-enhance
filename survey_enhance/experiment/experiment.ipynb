{
 "cells": [
  {
   "cell_type": "code",
   "execution_count": 1,
   "metadata": {},
   "outputs": [
    {
     "ename": "TypeError",
     "evalue": "new() received an invalid combination of arguments - got (Series, requires_grad=bool), but expected one of:\n * (*, torch.device device)\n      didn't match because some of the keywords were incorrect: requires_grad\n * (torch.Storage storage)\n * (Tensor other)\n * (tuple of ints size, *, torch.device device)\n * (object data, *, torch.device device)\n",
     "output_type": "error",
     "traceback": [
      "\u001b[0;31m---------------------------------------------------------------------------\u001b[0m",
      "\u001b[0;31mTypeError\u001b[0m                                 Traceback (most recent call last)",
      "\u001b[1;32m/Users/nikhil/durham/survey-enhance/survey_enhance/experiment/experiment.ipynb Cell 1\u001b[0m in \u001b[0;36m<cell line: 11>\u001b[0;34m()\u001b[0m\n\u001b[1;32m      <a href='vscode-notebook-cell:/Users/nikhil/durham/survey-enhance/survey_enhance/experiment/experiment.ipynb#X22sZmlsZQ%3D%3D?line=0'>1</a>\u001b[0m \u001b[39mfrom\u001b[39;00m \u001b[39msurvey_enhance\u001b[39;00m\u001b[39m.\u001b[39;00m\u001b[39mexperiment\u001b[39;00m\u001b[39m.\u001b[39;00m\u001b[39minitialisation\u001b[39;00m \u001b[39mimport\u001b[39;00m (\n\u001b[1;32m      <a href='vscode-notebook-cell:/Users/nikhil/durham/survey-enhance/survey_enhance/experiment/experiment.ipynb#X22sZmlsZQ%3D%3D?line=1'>2</a>\u001b[0m     dataset, \n\u001b[1;32m      <a href='vscode-notebook-cell:/Users/nikhil/durham/survey-enhance/survey_enhance/experiment/experiment.ipynb#X22sZmlsZQ%3D%3D?line=2'>3</a>\u001b[0m     calibration_parameters,\n\u001b[0;32m   (...)\u001b[0m\n\u001b[1;32m      <a href='vscode-notebook-cell:/Users/nikhil/durham/survey-enhance/survey_enhance/experiment/experiment.ipynb#X22sZmlsZQ%3D%3D?line=5'>6</a>\u001b[0m     household_weights,\n\u001b[1;32m      <a href='vscode-notebook-cell:/Users/nikhil/durham/survey-enhance/survey_enhance/experiment/experiment.ipynb#X22sZmlsZQ%3D%3D?line=6'>7</a>\u001b[0m )\n\u001b[1;32m      <a href='vscode-notebook-cell:/Users/nikhil/durham/survey-enhance/survey_enhance/experiment/experiment.ipynb#X22sZmlsZQ%3D%3D?line=8'>9</a>\u001b[0m loss \u001b[39m=\u001b[39m Loss(dataset, calibration_parameters)\n\u001b[0;32m---> <a href='vscode-notebook-cell:/Users/nikhil/durham/survey-enhance/survey_enhance/experiment/experiment.ipynb#X22sZmlsZQ%3D%3D?line=10'>11</a>\u001b[0m initial_loss \u001b[39m=\u001b[39m loss(household_weights, dataset)\n\u001b[1;32m     <a href='vscode-notebook-cell:/Users/nikhil/durham/survey-enhance/survey_enhance/experiment/experiment.ipynb#X22sZmlsZQ%3D%3D?line=12'>13</a>\u001b[0m \u001b[39m# We're going to use gradient descent to find the household weights that minimise the loss function\u001b[39;00m\n\u001b[1;32m     <a href='vscode-notebook-cell:/Users/nikhil/durham/survey-enhance/survey_enhance/experiment/experiment.ipynb#X22sZmlsZQ%3D%3D?line=13'>14</a>\u001b[0m \n\u001b[1;32m     <a href='vscode-notebook-cell:/Users/nikhil/durham/survey-enhance/survey_enhance/experiment/experiment.ipynb#X22sZmlsZQ%3D%3D?line=14'>15</a>\u001b[0m \u001b[39m# We'll use the Adam optimiser, which is a variant of gradient descent that's more robust to local minima\u001b[39;00m\n\u001b[1;32m     <a href='vscode-notebook-cell:/Users/nikhil/durham/survey-enhance/survey_enhance/experiment/experiment.ipynb#X22sZmlsZQ%3D%3D?line=16'>17</a>\u001b[0m \u001b[39mimport\u001b[39;00m \u001b[39mtorch\u001b[39;00m\n",
      "File \u001b[0;32m/opt/anaconda3/lib/python3.9/site-packages/torch/nn/modules/module.py:1130\u001b[0m, in \u001b[0;36mModule._call_impl\u001b[0;34m(self, *input, **kwargs)\u001b[0m\n\u001b[1;32m   1126\u001b[0m \u001b[39m# If we don't have any hooks, we want to skip the rest of the logic in\u001b[39;00m\n\u001b[1;32m   1127\u001b[0m \u001b[39m# this function, and just call forward.\u001b[39;00m\n\u001b[1;32m   1128\u001b[0m \u001b[39mif\u001b[39;00m \u001b[39mnot\u001b[39;00m (\u001b[39mself\u001b[39m\u001b[39m.\u001b[39m_backward_hooks \u001b[39mor\u001b[39;00m \u001b[39mself\u001b[39m\u001b[39m.\u001b[39m_forward_hooks \u001b[39mor\u001b[39;00m \u001b[39mself\u001b[39m\u001b[39m.\u001b[39m_forward_pre_hooks \u001b[39mor\u001b[39;00m _global_backward_hooks\n\u001b[1;32m   1129\u001b[0m         \u001b[39mor\u001b[39;00m _global_forward_hooks \u001b[39mor\u001b[39;00m _global_forward_pre_hooks):\n\u001b[0;32m-> 1130\u001b[0m     \u001b[39mreturn\u001b[39;00m forward_call(\u001b[39m*\u001b[39;49m\u001b[39minput\u001b[39;49m, \u001b[39m*\u001b[39;49m\u001b[39m*\u001b[39;49mkwargs)\n\u001b[1;32m   1131\u001b[0m \u001b[39m# Do not call functions when jit is used\u001b[39;00m\n\u001b[1;32m   1132\u001b[0m full_backward_hooks, non_full_backward_hooks \u001b[39m=\u001b[39m [], []\n",
      "File \u001b[0;32m~/durham/survey-enhance/survey_enhance/loss.py:67\u001b[0m, in \u001b[0;36mLossCategory.forward\u001b[0;34m(self, household_weights, dataset, initial_run)\u001b[0m\n\u001b[1;32m     65\u001b[0m \u001b[39mdef\u001b[39;00m \u001b[39mforward\u001b[39m(\u001b[39mself\u001b[39m, household_weights: torch\u001b[39m.\u001b[39mTensor, dataset: Dataset, initial_run: \u001b[39mbool\u001b[39m \u001b[39m=\u001b[39m \u001b[39mFalse\u001b[39;00m) \u001b[39m-\u001b[39m\u001b[39m>\u001b[39m torch\u001b[39m.\u001b[39mTensor:\n\u001b[1;32m     66\u001b[0m     \u001b[39mif\u001b[39;00m \u001b[39mself\u001b[39m\u001b[39m.\u001b[39minitial_loss_value \u001b[39mis\u001b[39;00m \u001b[39mNone\u001b[39;00m \u001b[39mand\u001b[39;00m \u001b[39mnot\u001b[39;00m initial_run:\n\u001b[0;32m---> 67\u001b[0m         \u001b[39mself\u001b[39m\u001b[39m.\u001b[39minitial_loss_value \u001b[39m=\u001b[39m \u001b[39mself\u001b[39;49m\u001b[39m.\u001b[39;49mforward(household_weights, dataset, initial_run\u001b[39m=\u001b[39;49m\u001b[39mTrue\u001b[39;49;00m)\n\u001b[1;32m     69\u001b[0m     \u001b[39mif\u001b[39;00m \u001b[39mnot\u001b[39;00m initial_run:\n\u001b[1;32m     70\u001b[0m         \u001b[39mself\u001b[39m\u001b[39m.\u001b[39mepoch \u001b[39m+\u001b[39m\u001b[39m=\u001b[39m \u001b[39m1\u001b[39m\n",
      "File \u001b[0;32m~/durham/survey-enhance/survey_enhance/loss.py:85\u001b[0m, in \u001b[0;36mLossCategory.forward\u001b[0;34m(self, household_weights, dataset, initial_run)\u001b[0m\n\u001b[1;32m     83\u001b[0m total_subloss_weight \u001b[39m=\u001b[39m \u001b[39msum\u001b[39m(subloss\u001b[39m.\u001b[39mweight \u001b[39mfor\u001b[39;00m subloss \u001b[39min\u001b[39;00m \u001b[39mself\u001b[39m\u001b[39m.\u001b[39msublosses)\n\u001b[1;32m     84\u001b[0m \u001b[39mfor\u001b[39;00m subloss \u001b[39min\u001b[39;00m \u001b[39mself\u001b[39m\u001b[39m.\u001b[39msublosses:\n\u001b[0;32m---> 85\u001b[0m     subcategory_loss \u001b[39m=\u001b[39m subloss(household_weights, dataset) \u001b[39m/\u001b[39m total_subloss_weight\n\u001b[1;32m     86\u001b[0m     \u001b[39mself\u001b[39m\u001b[39m.\u001b[39mcomparison_log\u001b[39m.\u001b[39mappend(\n\u001b[1;32m     87\u001b[0m         (\u001b[39mself\u001b[39m\u001b[39m.\u001b[39mancestor\u001b[39m.\u001b[39mepoch, subloss\u001b[39m.\u001b[39m\u001b[39m__class__\u001b[39m\u001b[39m.\u001b[39m\u001b[39m__name__\u001b[39m, \u001b[39m0\u001b[39m, \u001b[39m0\u001b[39m, \u001b[39mfloat\u001b[39m(subcategory_loss))\n\u001b[1;32m     88\u001b[0m     )\n\u001b[1;32m     89\u001b[0m     loss \u001b[39m+\u001b[39m\u001b[39m=\u001b[39m subcategory_loss\n",
      "File \u001b[0;32m/opt/anaconda3/lib/python3.9/site-packages/torch/nn/modules/module.py:1130\u001b[0m, in \u001b[0;36mModule._call_impl\u001b[0;34m(self, *input, **kwargs)\u001b[0m\n\u001b[1;32m   1126\u001b[0m \u001b[39m# If we don't have any hooks, we want to skip the rest of the logic in\u001b[39;00m\n\u001b[1;32m   1127\u001b[0m \u001b[39m# this function, and just call forward.\u001b[39;00m\n\u001b[1;32m   1128\u001b[0m \u001b[39mif\u001b[39;00m \u001b[39mnot\u001b[39;00m (\u001b[39mself\u001b[39m\u001b[39m.\u001b[39m_backward_hooks \u001b[39mor\u001b[39;00m \u001b[39mself\u001b[39m\u001b[39m.\u001b[39m_forward_hooks \u001b[39mor\u001b[39;00m \u001b[39mself\u001b[39m\u001b[39m.\u001b[39m_forward_pre_hooks \u001b[39mor\u001b[39;00m _global_backward_hooks\n\u001b[1;32m   1129\u001b[0m         \u001b[39mor\u001b[39;00m _global_forward_hooks \u001b[39mor\u001b[39;00m _global_forward_pre_hooks):\n\u001b[0;32m-> 1130\u001b[0m     \u001b[39mreturn\u001b[39;00m forward_call(\u001b[39m*\u001b[39;49m\u001b[39minput\u001b[39;49m, \u001b[39m*\u001b[39;49m\u001b[39m*\u001b[39;49mkwargs)\n\u001b[1;32m   1131\u001b[0m \u001b[39m# Do not call functions when jit is used\u001b[39;00m\n\u001b[1;32m   1132\u001b[0m full_backward_hooks, non_full_backward_hooks \u001b[39m=\u001b[39m [], []\n",
      "File \u001b[0;32m~/durham/survey-enhance/survey_enhance/loss.py:67\u001b[0m, in \u001b[0;36mLossCategory.forward\u001b[0;34m(self, household_weights, dataset, initial_run)\u001b[0m\n\u001b[1;32m     65\u001b[0m \u001b[39mdef\u001b[39;00m \u001b[39mforward\u001b[39m(\u001b[39mself\u001b[39m, household_weights: torch\u001b[39m.\u001b[39mTensor, dataset: Dataset, initial_run: \u001b[39mbool\u001b[39m \u001b[39m=\u001b[39m \u001b[39mFalse\u001b[39;00m) \u001b[39m-\u001b[39m\u001b[39m>\u001b[39m torch\u001b[39m.\u001b[39mTensor:\n\u001b[1;32m     66\u001b[0m     \u001b[39mif\u001b[39;00m \u001b[39mself\u001b[39m\u001b[39m.\u001b[39minitial_loss_value \u001b[39mis\u001b[39;00m \u001b[39mNone\u001b[39;00m \u001b[39mand\u001b[39;00m \u001b[39mnot\u001b[39;00m initial_run:\n\u001b[0;32m---> 67\u001b[0m         \u001b[39mself\u001b[39m\u001b[39m.\u001b[39minitial_loss_value \u001b[39m=\u001b[39m \u001b[39mself\u001b[39;49m\u001b[39m.\u001b[39;49mforward(household_weights, dataset, initial_run\u001b[39m=\u001b[39;49m\u001b[39mTrue\u001b[39;49;00m)\n\u001b[1;32m     69\u001b[0m     \u001b[39mif\u001b[39;00m \u001b[39mnot\u001b[39;00m initial_run:\n\u001b[1;32m     70\u001b[0m         \u001b[39mself\u001b[39m\u001b[39m.\u001b[39mepoch \u001b[39m+\u001b[39m\u001b[39m=\u001b[39m \u001b[39m1\u001b[39m\n",
      "File \u001b[0;32m~/durham/survey-enhance/survey_enhance/loss.py:85\u001b[0m, in \u001b[0;36mLossCategory.forward\u001b[0;34m(self, household_weights, dataset, initial_run)\u001b[0m\n\u001b[1;32m     83\u001b[0m total_subloss_weight \u001b[39m=\u001b[39m \u001b[39msum\u001b[39m(subloss\u001b[39m.\u001b[39mweight \u001b[39mfor\u001b[39;00m subloss \u001b[39min\u001b[39;00m \u001b[39mself\u001b[39m\u001b[39m.\u001b[39msublosses)\n\u001b[1;32m     84\u001b[0m \u001b[39mfor\u001b[39;00m subloss \u001b[39min\u001b[39;00m \u001b[39mself\u001b[39m\u001b[39m.\u001b[39msublosses:\n\u001b[0;32m---> 85\u001b[0m     subcategory_loss \u001b[39m=\u001b[39m subloss(household_weights, dataset) \u001b[39m/\u001b[39m total_subloss_weight\n\u001b[1;32m     86\u001b[0m     \u001b[39mself\u001b[39m\u001b[39m.\u001b[39mcomparison_log\u001b[39m.\u001b[39mappend(\n\u001b[1;32m     87\u001b[0m         (\u001b[39mself\u001b[39m\u001b[39m.\u001b[39mancestor\u001b[39m.\u001b[39mepoch, subloss\u001b[39m.\u001b[39m\u001b[39m__class__\u001b[39m\u001b[39m.\u001b[39m\u001b[39m__name__\u001b[39m, \u001b[39m0\u001b[39m, \u001b[39m0\u001b[39m, \u001b[39mfloat\u001b[39m(subcategory_loss))\n\u001b[1;32m     88\u001b[0m     )\n\u001b[1;32m     89\u001b[0m     loss \u001b[39m+\u001b[39m\u001b[39m=\u001b[39m subcategory_loss\n",
      "File \u001b[0;32m/opt/anaconda3/lib/python3.9/site-packages/torch/nn/modules/module.py:1130\u001b[0m, in \u001b[0;36mModule._call_impl\u001b[0;34m(self, *input, **kwargs)\u001b[0m\n\u001b[1;32m   1126\u001b[0m \u001b[39m# If we don't have any hooks, we want to skip the rest of the logic in\u001b[39;00m\n\u001b[1;32m   1127\u001b[0m \u001b[39m# this function, and just call forward.\u001b[39;00m\n\u001b[1;32m   1128\u001b[0m \u001b[39mif\u001b[39;00m \u001b[39mnot\u001b[39;00m (\u001b[39mself\u001b[39m\u001b[39m.\u001b[39m_backward_hooks \u001b[39mor\u001b[39;00m \u001b[39mself\u001b[39m\u001b[39m.\u001b[39m_forward_hooks \u001b[39mor\u001b[39;00m \u001b[39mself\u001b[39m\u001b[39m.\u001b[39m_forward_pre_hooks \u001b[39mor\u001b[39;00m _global_backward_hooks\n\u001b[1;32m   1129\u001b[0m         \u001b[39mor\u001b[39;00m _global_forward_hooks \u001b[39mor\u001b[39;00m _global_forward_pre_hooks):\n\u001b[0;32m-> 1130\u001b[0m     \u001b[39mreturn\u001b[39;00m forward_call(\u001b[39m*\u001b[39;49m\u001b[39minput\u001b[39;49m, \u001b[39m*\u001b[39;49m\u001b[39m*\u001b[39;49mkwargs)\n\u001b[1;32m   1131\u001b[0m \u001b[39m# Do not call functions when jit is used\u001b[39;00m\n\u001b[1;32m   1132\u001b[0m full_backward_hooks, non_full_backward_hooks \u001b[39m=\u001b[39m [], []\n",
      "File \u001b[0;32m~/durham/survey-enhance/survey_enhance/loss.py:67\u001b[0m, in \u001b[0;36mLossCategory.forward\u001b[0;34m(self, household_weights, dataset, initial_run)\u001b[0m\n\u001b[1;32m     65\u001b[0m \u001b[39mdef\u001b[39;00m \u001b[39mforward\u001b[39m(\u001b[39mself\u001b[39m, household_weights: torch\u001b[39m.\u001b[39mTensor, dataset: Dataset, initial_run: \u001b[39mbool\u001b[39m \u001b[39m=\u001b[39m \u001b[39mFalse\u001b[39;00m) \u001b[39m-\u001b[39m\u001b[39m>\u001b[39m torch\u001b[39m.\u001b[39mTensor:\n\u001b[1;32m     66\u001b[0m     \u001b[39mif\u001b[39;00m \u001b[39mself\u001b[39m\u001b[39m.\u001b[39minitial_loss_value \u001b[39mis\u001b[39;00m \u001b[39mNone\u001b[39;00m \u001b[39mand\u001b[39;00m \u001b[39mnot\u001b[39;00m initial_run:\n\u001b[0;32m---> 67\u001b[0m         \u001b[39mself\u001b[39m\u001b[39m.\u001b[39minitial_loss_value \u001b[39m=\u001b[39m \u001b[39mself\u001b[39;49m\u001b[39m.\u001b[39;49mforward(household_weights, dataset, initial_run\u001b[39m=\u001b[39;49m\u001b[39mTrue\u001b[39;49;00m)\n\u001b[1;32m     69\u001b[0m     \u001b[39mif\u001b[39;00m \u001b[39mnot\u001b[39;00m initial_run:\n\u001b[1;32m     70\u001b[0m         \u001b[39mself\u001b[39m\u001b[39m.\u001b[39mepoch \u001b[39m+\u001b[39m\u001b[39m=\u001b[39m \u001b[39m1\u001b[39m\n",
      "File \u001b[0;32m~/durham/survey-enhance/survey_enhance/loss.py:75\u001b[0m, in \u001b[0;36mLossCategory.forward\u001b[0;34m(self, household_weights, dataset, initial_run)\u001b[0m\n\u001b[1;32m     72\u001b[0m loss \u001b[39m=\u001b[39m torch\u001b[39m.\u001b[39mtensor(\u001b[39m1.\u001b[39m, requires_grad\u001b[39m=\u001b[39m\u001b[39mTrue\u001b[39;00m) \u001b[39m# To avoid division by zero\u001b[39;00m\n\u001b[1;32m     74\u001b[0m \u001b[39mtry\u001b[39;00m:\n\u001b[0;32m---> 75\u001b[0m     self_loss \u001b[39m=\u001b[39m \u001b[39mself\u001b[39;49m\u001b[39m.\u001b[39;49mevaluate(household_weights, dataset)\n\u001b[1;32m     76\u001b[0m     loss \u001b[39m+\u001b[39m\u001b[39m=\u001b[39m self_loss\n\u001b[1;32m     77\u001b[0m \u001b[39mexcept\u001b[39;00m \u001b[39mNotImplementedError\u001b[39;00m:\n",
      "File \u001b[0;32m~/durham/survey-enhance/survey_enhance/loss.py:58\u001b[0m, in \u001b[0;36mLossCategory.evaluate\u001b[0;34m(self, household_weights, dataset)\u001b[0m\n\u001b[1;32m     55\u001b[0m loss \u001b[39m=\u001b[39m torch\u001b[39m.\u001b[39mtensor(\u001b[39m0.\u001b[39m, requires_grad\u001b[39m=\u001b[39m\u001b[39mTrue\u001b[39;00m)\n\u001b[1;32m     56\u001b[0m \u001b[39mfor\u001b[39;00m name, y_pred_array, y_true \u001b[39min\u001b[39;00m comparisons:\n\u001b[1;32m     57\u001b[0m     \u001b[39m# y_pred_array needs to be a weighted sum with household_weights\u001b[39;00m\n\u001b[0;32m---> 58\u001b[0m     y_pred_array \u001b[39m=\u001b[39m torch\u001b[39m.\u001b[39;49mTensor(y_pred_array\u001b[39m.\u001b[39;49mastype(\u001b[39mfloat\u001b[39;49m), requires_grad\u001b[39m=\u001b[39;49m\u001b[39mTrue\u001b[39;49;00m)\n\u001b[1;32m     59\u001b[0m     y_pred \u001b[39m=\u001b[39m torch\u001b[39m.\u001b[39msum(y_pred_array \u001b[39m*\u001b[39m household_weights)\n\u001b[1;32m     60\u001b[0m     loss_addition \u001b[39m=\u001b[39m torch\u001b[39m.\u001b[39mabs(y_true \u001b[39m-\u001b[39m y_pred) \u001b[39m*\u001b[39m\u001b[39m*\u001b[39m \u001b[39m2\u001b[39m\n",
      "\u001b[0;31mTypeError\u001b[0m: new() received an invalid combination of arguments - got (Series, requires_grad=bool), but expected one of:\n * (*, torch.device device)\n      didn't match because some of the keywords were incorrect: requires_grad\n * (torch.Storage storage)\n * (Tensor other)\n * (tuple of ints size, *, torch.device device)\n * (object data, *, torch.device device)\n"
     ]
    }
   ],
   "source": [
    "from survey_enhance.experiment.initialisation import (\n",
    "    dataset,\n",
    "    calibration_parameters,\n",
    "    Loss,\n",
    "    create_frs_dataset,\n",
    "    household_weights,\n",
    ")\n",
    "\n",
    "loss = Loss(dataset, calibration_parameters)\n",
    "\n",
    "initial_loss = loss(household_weights, dataset)\n",
    "\n",
    "# We're going to use gradient descent to find the household weights that minimise the loss function\n",
    "\n",
    "# We'll use the Adam optimiser, which is a variant of gradient descent that's more robust to local minima\n",
    "\n",
    "import torch\n",
    "from torch import optim\n",
    "\n",
    "optimiser = optim.Adam([household_weights], lr=0.1)\n",
    "\n",
    "for i in range(100):\n",
    "    optimiser.zero_grad()\n",
    "    loss_value = loss(household_weights, dataset)\n",
    "    loss_value.backward()\n",
    "    optimiser.step()\n",
    "    print(f\"Loss: {loss_value.item()}\")"
   ]
  },
  {
   "cell_type": "code",
   "execution_count": null,
   "metadata": {},
   "outputs": [
    {
     "data": {
      "text/plain": [
       "False"
      ]
     },
     "execution_count": 6,
     "metadata": {},
     "output_type": "execute_result"
    }
   ],
   "source": [
    "loss_value.requires_grad"
   ]
  }
 ],
 "metadata": {
  "kernelspec": {
   "display_name": "Python 3.9.12 ('base')",
   "language": "python",
   "name": "python3"
  },
  "language_info": {
   "codemirror_mode": {
    "name": "ipython",
    "version": 3
   },
   "file_extension": ".py",
   "mimetype": "text/x-python",
   "name": "python",
   "nbconvert_exporter": "python",
   "pygments_lexer": "ipython3",
   "version": "3.9.12"
  },
  "orig_nbformat": 4,
  "vscode": {
   "interpreter": {
    "hash": "40d3a090f54c6569ab1632332b64b2c03c39dcf918b08424e98f38b5ae0af88f"
   }
  }
 },
 "nbformat": 4,
 "nbformat_minor": 2
}
